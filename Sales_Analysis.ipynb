{
  "cells": [
    {
      "cell_type": "markdown",
      "metadata": {
        "id": "view-in-github",
        "colab_type": "text"
      },
      "source": [
        "<a href=\"https://colab.research.google.com/github/taylorec/Data-Science-with-Python/blob/main/Sales_Analysis.ipynb\" target=\"_parent\"><img src=\"https://colab.research.google.com/assets/colab-badge.svg\" alt=\"Open In Colab\"/></a>"
      ]
    },
    {
      "cell_type": "markdown",
      "source": [
        "This project analysis e-commerce data from Google BigQuery. \n",
        "\n",
        "A Tableau dashboard is available for viewing: https://public.tableau.com/shared/X8FP42YGZ?:display_count=n&:origin=viz_share_link"
      ],
      "metadata": {
        "id": "jF7J54mgZk4w"
      }
    },
    {
      "cell_type": "code",
      "execution_count": null,
      "metadata": {
        "colab": {
          "base_uri": "https://localhost:8080/"
        },
        "id": "27TEjEEqY_bN",
        "outputId": "65356f60-1dfd-4b07-adf0-6567223cd088"
      },
      "outputs": [
        {
          "output_type": "stream",
          "name": "stdout",
          "text": [
            "Authenticated\n"
          ]
        }
      ],
      "source": [
        "from google.colab import auth\n",
        "auth.authenticate_user()\n",
        "print('Authenticated')"
      ]
    },
    {
      "cell_type": "code",
      "execution_count": null,
      "metadata": {
        "id": "4Twc20CrZJgB"
      },
      "outputs": [],
      "source": [
        "%load_ext google.colab.data_table"
      ]
    },
    {
      "cell_type": "code",
      "execution_count": null,
      "metadata": {
        "id": "-xlyaGAuZLUg"
      },
      "outputs": [],
      "source": [
        "project_id = 'sixth-flag-316719'"
      ]
    },
    {
      "cell_type": "code",
      "execution_count": null,
      "metadata": {
        "id": "mFI5xlldZNgt"
      },
      "outputs": [],
      "source": [
        "from google.cloud import bigquery\n",
        " \n",
        "client = bigquery.Client(project=project_id)"
      ]
    },
    {
      "cell_type": "code",
      "execution_count": null,
      "metadata": {
        "id": "H4bEEGi9ZPYG"
      },
      "outputs": [],
      "source": [
        "dc = client.query('''\n",
        "SELECT \n",
        "        *\n",
        "FROM\n",
        "        `bigquery-public-data.thelook_ecommerce.distribution_centers`\n",
        "''' ).to_dataframe()"
      ]
    },
    {
      "cell_type": "code",
      "execution_count": null,
      "metadata": {
        "id": "Zf6FpQPNZV0S",
        "colab": {
          "base_uri": "https://localhost:8080/",
          "height": 305
        },
        "outputId": "8280d40f-2e3c-48cf-f097-05ac2a2cb9b2"
      },
      "outputs": [
        {
          "output_type": "execute_result",
          "data": {
            "text/plain": [
              "   id                                         name  latitude  longitude\n",
              "0   1                                   Memphis TN   35.1174   -89.9711\n",
              "1   2                                   Chicago IL   41.8369   -87.6847\n",
              "2   3                                   Houston TX   29.7604   -95.3698\n",
              "3   4                               Los Angeles CA   34.0500  -118.2500\n",
              "4   5                               New Orleans LA   29.9500   -90.0667\n",
              "5   6  Port Authority of New York/New Jersey NY/NJ   40.6340   -73.7834\n",
              "6   7                              Philadelphia PA   39.9500   -75.1667\n",
              "7   8                                    Mobile AL   30.6944   -88.0431\n",
              "8   9                                Charleston SC   32.7833   -79.9333\n",
              "9  10                                  Savannah GA   32.0167   -81.1167"
            ],
            "text/html": [
              "\n",
              "  <div id=\"df-5405688b-c373-4857-9027-f31bc486e195\">\n",
              "    <div class=\"colab-df-container\">\n",
              "      <div>\n",
              "<style scoped>\n",
              "    .dataframe tbody tr th:only-of-type {\n",
              "        vertical-align: middle;\n",
              "    }\n",
              "\n",
              "    .dataframe tbody tr th {\n",
              "        vertical-align: top;\n",
              "    }\n",
              "\n",
              "    .dataframe thead th {\n",
              "        text-align: right;\n",
              "    }\n",
              "</style>\n",
              "<table border=\"1\" class=\"dataframe\">\n",
              "  <thead>\n",
              "    <tr style=\"text-align: right;\">\n",
              "      <th></th>\n",
              "      <th>id</th>\n",
              "      <th>name</th>\n",
              "      <th>latitude</th>\n",
              "      <th>longitude</th>\n",
              "    </tr>\n",
              "  </thead>\n",
              "  <tbody>\n",
              "    <tr>\n",
              "      <th>0</th>\n",
              "      <td>1</td>\n",
              "      <td>Memphis TN</td>\n",
              "      <td>35.1174</td>\n",
              "      <td>-89.9711</td>\n",
              "    </tr>\n",
              "    <tr>\n",
              "      <th>1</th>\n",
              "      <td>2</td>\n",
              "      <td>Chicago IL</td>\n",
              "      <td>41.8369</td>\n",
              "      <td>-87.6847</td>\n",
              "    </tr>\n",
              "    <tr>\n",
              "      <th>2</th>\n",
              "      <td>3</td>\n",
              "      <td>Houston TX</td>\n",
              "      <td>29.7604</td>\n",
              "      <td>-95.3698</td>\n",
              "    </tr>\n",
              "    <tr>\n",
              "      <th>3</th>\n",
              "      <td>4</td>\n",
              "      <td>Los Angeles CA</td>\n",
              "      <td>34.0500</td>\n",
              "      <td>-118.2500</td>\n",
              "    </tr>\n",
              "    <tr>\n",
              "      <th>4</th>\n",
              "      <td>5</td>\n",
              "      <td>New Orleans LA</td>\n",
              "      <td>29.9500</td>\n",
              "      <td>-90.0667</td>\n",
              "    </tr>\n",
              "    <tr>\n",
              "      <th>5</th>\n",
              "      <td>6</td>\n",
              "      <td>Port Authority of New York/New Jersey NY/NJ</td>\n",
              "      <td>40.6340</td>\n",
              "      <td>-73.7834</td>\n",
              "    </tr>\n",
              "    <tr>\n",
              "      <th>6</th>\n",
              "      <td>7</td>\n",
              "      <td>Philadelphia PA</td>\n",
              "      <td>39.9500</td>\n",
              "      <td>-75.1667</td>\n",
              "    </tr>\n",
              "    <tr>\n",
              "      <th>7</th>\n",
              "      <td>8</td>\n",
              "      <td>Mobile AL</td>\n",
              "      <td>30.6944</td>\n",
              "      <td>-88.0431</td>\n",
              "    </tr>\n",
              "    <tr>\n",
              "      <th>8</th>\n",
              "      <td>9</td>\n",
              "      <td>Charleston SC</td>\n",
              "      <td>32.7833</td>\n",
              "      <td>-79.9333</td>\n",
              "    </tr>\n",
              "    <tr>\n",
              "      <th>9</th>\n",
              "      <td>10</td>\n",
              "      <td>Savannah GA</td>\n",
              "      <td>32.0167</td>\n",
              "      <td>-81.1167</td>\n",
              "    </tr>\n",
              "  </tbody>\n",
              "</table>\n",
              "</div>\n",
              "      <button class=\"colab-df-convert\" onclick=\"convertToInteractive('df-5405688b-c373-4857-9027-f31bc486e195')\"\n",
              "              title=\"Convert this dataframe to an interactive table.\"\n",
              "              style=\"display:none;\">\n",
              "        \n",
              "  <svg xmlns=\"http://www.w3.org/2000/svg\" height=\"24px\"viewBox=\"0 0 24 24\"\n",
              "       width=\"24px\">\n",
              "    <path d=\"M0 0h24v24H0V0z\" fill=\"none\"/>\n",
              "    <path d=\"M18.56 5.44l.94 2.06.94-2.06 2.06-.94-2.06-.94-.94-2.06-.94 2.06-2.06.94zm-11 1L8.5 8.5l.94-2.06 2.06-.94-2.06-.94L8.5 2.5l-.94 2.06-2.06.94zm10 10l.94 2.06.94-2.06 2.06-.94-2.06-.94-.94-2.06-.94 2.06-2.06.94z\"/><path d=\"M17.41 7.96l-1.37-1.37c-.4-.4-.92-.59-1.43-.59-.52 0-1.04.2-1.43.59L10.3 9.45l-7.72 7.72c-.78.78-.78 2.05 0 2.83L4 21.41c.39.39.9.59 1.41.59.51 0 1.02-.2 1.41-.59l7.78-7.78 2.81-2.81c.8-.78.8-2.07 0-2.86zM5.41 20L4 18.59l7.72-7.72 1.47 1.35L5.41 20z\"/>\n",
              "  </svg>\n",
              "      </button>\n",
              "      \n",
              "  <style>\n",
              "    .colab-df-container {\n",
              "      display:flex;\n",
              "      flex-wrap:wrap;\n",
              "      gap: 12px;\n",
              "    }\n",
              "\n",
              "    .colab-df-convert {\n",
              "      background-color: #E8F0FE;\n",
              "      border: none;\n",
              "      border-radius: 50%;\n",
              "      cursor: pointer;\n",
              "      display: none;\n",
              "      fill: #1967D2;\n",
              "      height: 32px;\n",
              "      padding: 0 0 0 0;\n",
              "      width: 32px;\n",
              "    }\n",
              "\n",
              "    .colab-df-convert:hover {\n",
              "      background-color: #E2EBFA;\n",
              "      box-shadow: 0px 1px 2px rgba(60, 64, 67, 0.3), 0px 1px 3px 1px rgba(60, 64, 67, 0.15);\n",
              "      fill: #174EA6;\n",
              "    }\n",
              "\n",
              "    [theme=dark] .colab-df-convert {\n",
              "      background-color: #3B4455;\n",
              "      fill: #D2E3FC;\n",
              "    }\n",
              "\n",
              "    [theme=dark] .colab-df-convert:hover {\n",
              "      background-color: #434B5C;\n",
              "      box-shadow: 0px 1px 3px 1px rgba(0, 0, 0, 0.15);\n",
              "      filter: drop-shadow(0px 1px 2px rgba(0, 0, 0, 0.3));\n",
              "      fill: #FFFFFF;\n",
              "    }\n",
              "  </style>\n",
              "\n",
              "      <script>\n",
              "        const buttonEl =\n",
              "          document.querySelector('#df-5405688b-c373-4857-9027-f31bc486e195 button.colab-df-convert');\n",
              "        buttonEl.style.display =\n",
              "          google.colab.kernel.accessAllowed ? 'block' : 'none';\n",
              "\n",
              "        async function convertToInteractive(key) {\n",
              "          const element = document.querySelector('#df-5405688b-c373-4857-9027-f31bc486e195');\n",
              "          const dataTable =\n",
              "            await google.colab.kernel.invokeFunction('convertToInteractive',\n",
              "                                                     [key], {});\n",
              "          if (!dataTable) return;\n",
              "\n",
              "          const docLinkHtml = 'Like what you see? Visit the ' +\n",
              "            '<a target=\"_blank\" href=https://colab.research.google.com/notebooks/data_table.ipynb>data table notebook</a>'\n",
              "            + ' to learn more about interactive tables.';\n",
              "          element.innerHTML = '';\n",
              "          dataTable['output_type'] = 'display_data';\n",
              "          await google.colab.output.renderOutput(dataTable, element);\n",
              "          const docLink = document.createElement('div');\n",
              "          docLink.innerHTML = docLinkHtml;\n",
              "          element.appendChild(docLink);\n",
              "        }\n",
              "      </script>\n",
              "    </div>\n",
              "  </div>\n",
              "  "
            ],
            "application/vnd.google.colaboratory.module+javascript": "\n      import \"https://ssl.gstatic.com/colaboratory/data_table/f872b2c2305463fd/data_table.js\";\n\n      window.createDataTable({\n        data: [[{\n            'v': 0,\n            'f': \"0\",\n        },\n{\n            'v': 1,\n            'f': \"1\",\n        },\n\"Memphis TN\",\n{\n            'v': 35.1174,\n            'f': \"35.1174\",\n        },\n{\n            'v': -89.9711,\n            'f': \"-89.9711\",\n        }],\n [{\n            'v': 1,\n            'f': \"1\",\n        },\n{\n            'v': 2,\n            'f': \"2\",\n        },\n\"Chicago IL\",\n{\n            'v': 41.8369,\n            'f': \"41.8369\",\n        },\n{\n            'v': -87.6847,\n            'f': \"-87.6847\",\n        }],\n [{\n            'v': 2,\n            'f': \"2\",\n        },\n{\n            'v': 3,\n            'f': \"3\",\n        },\n\"Houston TX\",\n{\n            'v': 29.7604,\n            'f': \"29.7604\",\n        },\n{\n            'v': -95.3698,\n            'f': \"-95.3698\",\n        }],\n [{\n            'v': 3,\n            'f': \"3\",\n        },\n{\n            'v': 4,\n            'f': \"4\",\n        },\n\"Los Angeles CA\",\n{\n            'v': 34.05,\n            'f': \"34.05\",\n        },\n{\n            'v': -118.25,\n            'f': \"-118.25\",\n        }],\n [{\n            'v': 4,\n            'f': \"4\",\n        },\n{\n            'v': 5,\n            'f': \"5\",\n        },\n\"New Orleans LA\",\n{\n            'v': 29.95,\n            'f': \"29.95\",\n        },\n{\n            'v': -90.0667,\n            'f': \"-90.0667\",\n        }],\n [{\n            'v': 5,\n            'f': \"5\",\n        },\n{\n            'v': 6,\n            'f': \"6\",\n        },\n\"Port Authority of New York/New Jersey NY/NJ\",\n{\n            'v': 40.634,\n            'f': \"40.634\",\n        },\n{\n            'v': -73.7834,\n            'f': \"-73.7834\",\n        }],\n [{\n            'v': 6,\n            'f': \"6\",\n        },\n{\n            'v': 7,\n            'f': \"7\",\n        },\n\"Philadelphia PA\",\n{\n            'v': 39.95,\n            'f': \"39.95\",\n        },\n{\n            'v': -75.1667,\n            'f': \"-75.1667\",\n        }],\n [{\n            'v': 7,\n            'f': \"7\",\n        },\n{\n            'v': 8,\n            'f': \"8\",\n        },\n\"Mobile AL\",\n{\n            'v': 30.6944,\n            'f': \"30.6944\",\n        },\n{\n            'v': -88.0431,\n            'f': \"-88.0431\",\n        }],\n [{\n            'v': 8,\n            'f': \"8\",\n        },\n{\n            'v': 9,\n            'f': \"9\",\n        },\n\"Charleston SC\",\n{\n            'v': 32.7833,\n            'f': \"32.7833\",\n        },\n{\n            'v': -79.9333,\n            'f': \"-79.9333\",\n        }],\n [{\n            'v': 9,\n            'f': \"9\",\n        },\n{\n            'v': 10,\n            'f': \"10\",\n        },\n\"Savannah GA\",\n{\n            'v': 32.0167,\n            'f': \"32.0167\",\n        },\n{\n            'v': -81.1167,\n            'f': \"-81.1167\",\n        }]],\n        columns: [[\"number\", \"index\"], [\"number\", \"id\"], [\"string\", \"name\"], [\"number\", \"latitude\"], [\"number\", \"longitude\"]],\n        columnOptions: [{\"width\": \"1px\", \"className\": \"index_column\"}],\n        rowsPerPage: 25,\n        helpUrl: \"https://colab.research.google.com/notebooks/data_table.ipynb\",\n        suppressOutputScrolling: true,\n        minimumWidth: undefined,\n      });\n    "
          },
          "metadata": {},
          "execution_count": 7
        }
      ],
      "source": [
        "# Ecommerce Distribution Centers\n",
        "\n",
        "dc"
      ]
    },
    {
      "cell_type": "code",
      "source": [
        "dc['state'] = dc['name'].apply(lambda name: name[-2:])"
      ],
      "metadata": {
        "id": "3wvdf9Akg2m5"
      },
      "execution_count": null,
      "outputs": []
    },
    {
      "cell_type": "code",
      "source": [
        "dc"
      ],
      "metadata": {
        "colab": {
          "base_uri": "https://localhost:8080/",
          "height": 305
        },
        "id": "pp8YGb7GiZ2S",
        "outputId": "eb17338f-70a9-4008-f94d-eb6e5ee47a80"
      },
      "execution_count": null,
      "outputs": [
        {
          "output_type": "execute_result",
          "data": {
            "text/plain": [
              "   id                                         name  latitude  longitude state\n",
              "0   1                                   Memphis TN   35.1174   -89.9711    TN\n",
              "1   2                                   Chicago IL   41.8369   -87.6847    IL\n",
              "2   3                                   Houston TX   29.7604   -95.3698    TX\n",
              "3   4                               Los Angeles CA   34.0500  -118.2500    CA\n",
              "4   5                               New Orleans LA   29.9500   -90.0667    LA\n",
              "5   6  Port Authority of New York/New Jersey NY/NJ   40.6340   -73.7834    NJ\n",
              "6   7                              Philadelphia PA   39.9500   -75.1667    PA\n",
              "7   8                                    Mobile AL   30.6944   -88.0431    AL\n",
              "8   9                                Charleston SC   32.7833   -79.9333    SC\n",
              "9  10                                  Savannah GA   32.0167   -81.1167    GA"
            ],
            "text/html": [
              "\n",
              "  <div id=\"df-464e3254-d92e-476f-93e1-a0b08b69142e\">\n",
              "    <div class=\"colab-df-container\">\n",
              "      <div>\n",
              "<style scoped>\n",
              "    .dataframe tbody tr th:only-of-type {\n",
              "        vertical-align: middle;\n",
              "    }\n",
              "\n",
              "    .dataframe tbody tr th {\n",
              "        vertical-align: top;\n",
              "    }\n",
              "\n",
              "    .dataframe thead th {\n",
              "        text-align: right;\n",
              "    }\n",
              "</style>\n",
              "<table border=\"1\" class=\"dataframe\">\n",
              "  <thead>\n",
              "    <tr style=\"text-align: right;\">\n",
              "      <th></th>\n",
              "      <th>id</th>\n",
              "      <th>name</th>\n",
              "      <th>latitude</th>\n",
              "      <th>longitude</th>\n",
              "      <th>state</th>\n",
              "    </tr>\n",
              "  </thead>\n",
              "  <tbody>\n",
              "    <tr>\n",
              "      <th>0</th>\n",
              "      <td>1</td>\n",
              "      <td>Memphis TN</td>\n",
              "      <td>35.1174</td>\n",
              "      <td>-89.9711</td>\n",
              "      <td>TN</td>\n",
              "    </tr>\n",
              "    <tr>\n",
              "      <th>1</th>\n",
              "      <td>2</td>\n",
              "      <td>Chicago IL</td>\n",
              "      <td>41.8369</td>\n",
              "      <td>-87.6847</td>\n",
              "      <td>IL</td>\n",
              "    </tr>\n",
              "    <tr>\n",
              "      <th>2</th>\n",
              "      <td>3</td>\n",
              "      <td>Houston TX</td>\n",
              "      <td>29.7604</td>\n",
              "      <td>-95.3698</td>\n",
              "      <td>TX</td>\n",
              "    </tr>\n",
              "    <tr>\n",
              "      <th>3</th>\n",
              "      <td>4</td>\n",
              "      <td>Los Angeles CA</td>\n",
              "      <td>34.0500</td>\n",
              "      <td>-118.2500</td>\n",
              "      <td>CA</td>\n",
              "    </tr>\n",
              "    <tr>\n",
              "      <th>4</th>\n",
              "      <td>5</td>\n",
              "      <td>New Orleans LA</td>\n",
              "      <td>29.9500</td>\n",
              "      <td>-90.0667</td>\n",
              "      <td>LA</td>\n",
              "    </tr>\n",
              "    <tr>\n",
              "      <th>5</th>\n",
              "      <td>6</td>\n",
              "      <td>Port Authority of New York/New Jersey NY/NJ</td>\n",
              "      <td>40.6340</td>\n",
              "      <td>-73.7834</td>\n",
              "      <td>NJ</td>\n",
              "    </tr>\n",
              "    <tr>\n",
              "      <th>6</th>\n",
              "      <td>7</td>\n",
              "      <td>Philadelphia PA</td>\n",
              "      <td>39.9500</td>\n",
              "      <td>-75.1667</td>\n",
              "      <td>PA</td>\n",
              "    </tr>\n",
              "    <tr>\n",
              "      <th>7</th>\n",
              "      <td>8</td>\n",
              "      <td>Mobile AL</td>\n",
              "      <td>30.6944</td>\n",
              "      <td>-88.0431</td>\n",
              "      <td>AL</td>\n",
              "    </tr>\n",
              "    <tr>\n",
              "      <th>8</th>\n",
              "      <td>9</td>\n",
              "      <td>Charleston SC</td>\n",
              "      <td>32.7833</td>\n",
              "      <td>-79.9333</td>\n",
              "      <td>SC</td>\n",
              "    </tr>\n",
              "    <tr>\n",
              "      <th>9</th>\n",
              "      <td>10</td>\n",
              "      <td>Savannah GA</td>\n",
              "      <td>32.0167</td>\n",
              "      <td>-81.1167</td>\n",
              "      <td>GA</td>\n",
              "    </tr>\n",
              "  </tbody>\n",
              "</table>\n",
              "</div>\n",
              "      <button class=\"colab-df-convert\" onclick=\"convertToInteractive('df-464e3254-d92e-476f-93e1-a0b08b69142e')\"\n",
              "              title=\"Convert this dataframe to an interactive table.\"\n",
              "              style=\"display:none;\">\n",
              "        \n",
              "  <svg xmlns=\"http://www.w3.org/2000/svg\" height=\"24px\"viewBox=\"0 0 24 24\"\n",
              "       width=\"24px\">\n",
              "    <path d=\"M0 0h24v24H0V0z\" fill=\"none\"/>\n",
              "    <path d=\"M18.56 5.44l.94 2.06.94-2.06 2.06-.94-2.06-.94-.94-2.06-.94 2.06-2.06.94zm-11 1L8.5 8.5l.94-2.06 2.06-.94-2.06-.94L8.5 2.5l-.94 2.06-2.06.94zm10 10l.94 2.06.94-2.06 2.06-.94-2.06-.94-.94-2.06-.94 2.06-2.06.94z\"/><path d=\"M17.41 7.96l-1.37-1.37c-.4-.4-.92-.59-1.43-.59-.52 0-1.04.2-1.43.59L10.3 9.45l-7.72 7.72c-.78.78-.78 2.05 0 2.83L4 21.41c.39.39.9.59 1.41.59.51 0 1.02-.2 1.41-.59l7.78-7.78 2.81-2.81c.8-.78.8-2.07 0-2.86zM5.41 20L4 18.59l7.72-7.72 1.47 1.35L5.41 20z\"/>\n",
              "  </svg>\n",
              "      </button>\n",
              "      \n",
              "  <style>\n",
              "    .colab-df-container {\n",
              "      display:flex;\n",
              "      flex-wrap:wrap;\n",
              "      gap: 12px;\n",
              "    }\n",
              "\n",
              "    .colab-df-convert {\n",
              "      background-color: #E8F0FE;\n",
              "      border: none;\n",
              "      border-radius: 50%;\n",
              "      cursor: pointer;\n",
              "      display: none;\n",
              "      fill: #1967D2;\n",
              "      height: 32px;\n",
              "      padding: 0 0 0 0;\n",
              "      width: 32px;\n",
              "    }\n",
              "\n",
              "    .colab-df-convert:hover {\n",
              "      background-color: #E2EBFA;\n",
              "      box-shadow: 0px 1px 2px rgba(60, 64, 67, 0.3), 0px 1px 3px 1px rgba(60, 64, 67, 0.15);\n",
              "      fill: #174EA6;\n",
              "    }\n",
              "\n",
              "    [theme=dark] .colab-df-convert {\n",
              "      background-color: #3B4455;\n",
              "      fill: #D2E3FC;\n",
              "    }\n",
              "\n",
              "    [theme=dark] .colab-df-convert:hover {\n",
              "      background-color: #434B5C;\n",
              "      box-shadow: 0px 1px 3px 1px rgba(0, 0, 0, 0.15);\n",
              "      filter: drop-shadow(0px 1px 2px rgba(0, 0, 0, 0.3));\n",
              "      fill: #FFFFFF;\n",
              "    }\n",
              "  </style>\n",
              "\n",
              "      <script>\n",
              "        const buttonEl =\n",
              "          document.querySelector('#df-464e3254-d92e-476f-93e1-a0b08b69142e button.colab-df-convert');\n",
              "        buttonEl.style.display =\n",
              "          google.colab.kernel.accessAllowed ? 'block' : 'none';\n",
              "\n",
              "        async function convertToInteractive(key) {\n",
              "          const element = document.querySelector('#df-464e3254-d92e-476f-93e1-a0b08b69142e');\n",
              "          const dataTable =\n",
              "            await google.colab.kernel.invokeFunction('convertToInteractive',\n",
              "                                                     [key], {});\n",
              "          if (!dataTable) return;\n",
              "\n",
              "          const docLinkHtml = 'Like what you see? Visit the ' +\n",
              "            '<a target=\"_blank\" href=https://colab.research.google.com/notebooks/data_table.ipynb>data table notebook</a>'\n",
              "            + ' to learn more about interactive tables.';\n",
              "          element.innerHTML = '';\n",
              "          dataTable['output_type'] = 'display_data';\n",
              "          await google.colab.output.renderOutput(dataTable, element);\n",
              "          const docLink = document.createElement('div');\n",
              "          docLink.innerHTML = docLinkHtml;\n",
              "          element.appendChild(docLink);\n",
              "        }\n",
              "      </script>\n",
              "    </div>\n",
              "  </div>\n",
              "  "
            ],
            "application/vnd.google.colaboratory.module+javascript": "\n      import \"https://ssl.gstatic.com/colaboratory/data_table/f872b2c2305463fd/data_table.js\";\n\n      window.createDataTable({\n        data: [[{\n            'v': 0,\n            'f': \"0\",\n        },\n{\n            'v': 1,\n            'f': \"1\",\n        },\n\"Memphis TN\",\n{\n            'v': 35.1174,\n            'f': \"35.1174\",\n        },\n{\n            'v': -89.9711,\n            'f': \"-89.9711\",\n        },\n\"TN\"],\n [{\n            'v': 1,\n            'f': \"1\",\n        },\n{\n            'v': 2,\n            'f': \"2\",\n        },\n\"Chicago IL\",\n{\n            'v': 41.8369,\n            'f': \"41.8369\",\n        },\n{\n            'v': -87.6847,\n            'f': \"-87.6847\",\n        },\n\"IL\"],\n [{\n            'v': 2,\n            'f': \"2\",\n        },\n{\n            'v': 3,\n            'f': \"3\",\n        },\n\"Houston TX\",\n{\n            'v': 29.7604,\n            'f': \"29.7604\",\n        },\n{\n            'v': -95.3698,\n            'f': \"-95.3698\",\n        },\n\"TX\"],\n [{\n            'v': 3,\n            'f': \"3\",\n        },\n{\n            'v': 4,\n            'f': \"4\",\n        },\n\"Los Angeles CA\",\n{\n            'v': 34.05,\n            'f': \"34.05\",\n        },\n{\n            'v': -118.25,\n            'f': \"-118.25\",\n        },\n\"CA\"],\n [{\n            'v': 4,\n            'f': \"4\",\n        },\n{\n            'v': 5,\n            'f': \"5\",\n        },\n\"New Orleans LA\",\n{\n            'v': 29.95,\n            'f': \"29.95\",\n        },\n{\n            'v': -90.0667,\n            'f': \"-90.0667\",\n        },\n\"LA\"],\n [{\n            'v': 5,\n            'f': \"5\",\n        },\n{\n            'v': 6,\n            'f': \"6\",\n        },\n\"Port Authority of New York/New Jersey NY/NJ\",\n{\n            'v': 40.634,\n            'f': \"40.634\",\n        },\n{\n            'v': -73.7834,\n            'f': \"-73.7834\",\n        },\n\"NJ\"],\n [{\n            'v': 6,\n            'f': \"6\",\n        },\n{\n            'v': 7,\n            'f': \"7\",\n        },\n\"Philadelphia PA\",\n{\n            'v': 39.95,\n            'f': \"39.95\",\n        },\n{\n            'v': -75.1667,\n            'f': \"-75.1667\",\n        },\n\"PA\"],\n [{\n            'v': 7,\n            'f': \"7\",\n        },\n{\n            'v': 8,\n            'f': \"8\",\n        },\n\"Mobile AL\",\n{\n            'v': 30.6944,\n            'f': \"30.6944\",\n        },\n{\n            'v': -88.0431,\n            'f': \"-88.0431\",\n        },\n\"AL\"],\n [{\n            'v': 8,\n            'f': \"8\",\n        },\n{\n            'v': 9,\n            'f': \"9\",\n        },\n\"Charleston SC\",\n{\n            'v': 32.7833,\n            'f': \"32.7833\",\n        },\n{\n            'v': -79.9333,\n            'f': \"-79.9333\",\n        },\n\"SC\"],\n [{\n            'v': 9,\n            'f': \"9\",\n        },\n{\n            'v': 10,\n            'f': \"10\",\n        },\n\"Savannah GA\",\n{\n            'v': 32.0167,\n            'f': \"32.0167\",\n        },\n{\n            'v': -81.1167,\n            'f': \"-81.1167\",\n        },\n\"GA\"]],\n        columns: [[\"number\", \"index\"], [\"number\", \"id\"], [\"string\", \"name\"], [\"number\", \"latitude\"], [\"number\", \"longitude\"], [\"string\", \"state\"]],\n        columnOptions: [{\"width\": \"1px\", \"className\": \"index_column\"}],\n        rowsPerPage: 25,\n        helpUrl: \"https://colab.research.google.com/notebooks/data_table.ipynb\",\n        suppressOutputScrolling: true,\n        minimumWidth: undefined,\n      });\n    "
          },
          "metadata": {},
          "execution_count": 9
        }
      ]
    },
    {
      "cell_type": "code",
      "source": [
        "orders_info = client.query('''\n",
        "SELECT \n",
        "        orders.order_id,\n",
        "        orders.user_id,\n",
        "        users.country,\n",
        "        users.age,\n",
        "        users.gender,\n",
        "        order_items.product_id,\n",
        "        order_items.sale_price,\n",
        "        FORMAT_DATE('%m/%Y', CAST(order_items.shipped_at AS DATE)) as shipped_at,\n",
        "        products.category,\n",
        "        products.department,\n",
        "        products.distribution_center_id\n",
        "FROM\n",
        "        `bigquery-public-data.thelook_ecommerce.orders` orders\n",
        "JOIN\n",
        "        `bigquery-public-data.thelook_ecommerce.users` users ON orders.user_id = users.id\n",
        "JOIN\n",
        "        `bigquery-public-data.thelook_ecommerce.order_items` order_items ON orders.order_id = order_items.order_id\n",
        "JOIN\n",
        "        `bigquery-public-data.thelook_ecommerce.products` products ON order_items.product_id = products.id\n",
        "''' ).to_dataframe()"
      ],
      "metadata": {
        "id": "q1pGs9rEnz23"
      },
      "execution_count": null,
      "outputs": []
    },
    {
      "cell_type": "code",
      "source": [
        "# Customer Orders\n",
        "orders = orders_info.copy()\n",
        "orders.head(10)"
      ],
      "metadata": {
        "id": "VcG8htfoDjlk",
        "colab": {
          "base_uri": "https://localhost:8080/",
          "height": 305
        },
        "outputId": "ac7c5788-3bff-40ef-9214-56df19134fbb"
      },
      "execution_count": null,
      "outputs": [
        {
          "output_type": "execute_result",
          "data": {
            "text/plain": [
              "   order_id  user_id country  age gender  product_id  sale_price shipped_at  \\\n",
              "0     43363    34633   Japan   56      F        8644   75.000000    10/2021   \n",
              "1    114569    91659   Japan   63      F       10346   36.000000    12/2021   \n",
              "2      2758     2173  Brasil   29      F       15308   48.000000       None   \n",
              "3     98791    79147  Brasil   15      F        7334    9.500000    11/2021   \n",
              "4     22787    18170  Brasil   61      F        2014   49.470001    06/2021   \n",
              "5     77324    61908  Brasil   37      F        7502   59.990002       None   \n",
              "6     85553    68521  Brasil   32      F        5049   44.990002    03/2022   \n",
              "7     85552    68521  Brasil   32      F        1567   98.000000       None   \n",
              "8     85552    68521  Brasil   32      F         218   10.620000       None   \n",
              "9     50360    40279  Brasil   29      F        5859    8.900000    09/2021   \n",
              "\n",
              "                        category department  distribution_center_id  \n",
              "0              Outerwear & Coats      Women                       3  \n",
              "1                      Intimates      Women                       2  \n",
              "2                           Plus      Women                       8  \n",
              "3                         Skirts      Women                       7  \n",
              "4  Fashion Hoodies & Sweatshirts      Women                       2  \n",
              "5              Blazers & Jackets      Women                       5  \n",
              "6                          Jeans      Women                       4  \n",
              "7  Fashion Hoodies & Sweatshirts      Women                       6  \n",
              "8                    Tops & Tees      Women                       9  \n",
              "9                       Leggings      Women                       7  "
            ],
            "text/html": [
              "\n",
              "  <div id=\"df-5e3ebbfc-d788-45d7-9380-d31b9bce4d61\">\n",
              "    <div class=\"colab-df-container\">\n",
              "      <div>\n",
              "<style scoped>\n",
              "    .dataframe tbody tr th:only-of-type {\n",
              "        vertical-align: middle;\n",
              "    }\n",
              "\n",
              "    .dataframe tbody tr th {\n",
              "        vertical-align: top;\n",
              "    }\n",
              "\n",
              "    .dataframe thead th {\n",
              "        text-align: right;\n",
              "    }\n",
              "</style>\n",
              "<table border=\"1\" class=\"dataframe\">\n",
              "  <thead>\n",
              "    <tr style=\"text-align: right;\">\n",
              "      <th></th>\n",
              "      <th>order_id</th>\n",
              "      <th>user_id</th>\n",
              "      <th>country</th>\n",
              "      <th>age</th>\n",
              "      <th>gender</th>\n",
              "      <th>product_id</th>\n",
              "      <th>sale_price</th>\n",
              "      <th>shipped_at</th>\n",
              "      <th>category</th>\n",
              "      <th>department</th>\n",
              "      <th>distribution_center_id</th>\n",
              "    </tr>\n",
              "  </thead>\n",
              "  <tbody>\n",
              "    <tr>\n",
              "      <th>0</th>\n",
              "      <td>43363</td>\n",
              "      <td>34633</td>\n",
              "      <td>Japan</td>\n",
              "      <td>56</td>\n",
              "      <td>F</td>\n",
              "      <td>8644</td>\n",
              "      <td>75.000000</td>\n",
              "      <td>10/2021</td>\n",
              "      <td>Outerwear &amp; Coats</td>\n",
              "      <td>Women</td>\n",
              "      <td>3</td>\n",
              "    </tr>\n",
              "    <tr>\n",
              "      <th>1</th>\n",
              "      <td>114569</td>\n",
              "      <td>91659</td>\n",
              "      <td>Japan</td>\n",
              "      <td>63</td>\n",
              "      <td>F</td>\n",
              "      <td>10346</td>\n",
              "      <td>36.000000</td>\n",
              "      <td>12/2021</td>\n",
              "      <td>Intimates</td>\n",
              "      <td>Women</td>\n",
              "      <td>2</td>\n",
              "    </tr>\n",
              "    <tr>\n",
              "      <th>2</th>\n",
              "      <td>2758</td>\n",
              "      <td>2173</td>\n",
              "      <td>Brasil</td>\n",
              "      <td>29</td>\n",
              "      <td>F</td>\n",
              "      <td>15308</td>\n",
              "      <td>48.000000</td>\n",
              "      <td>None</td>\n",
              "      <td>Plus</td>\n",
              "      <td>Women</td>\n",
              "      <td>8</td>\n",
              "    </tr>\n",
              "    <tr>\n",
              "      <th>3</th>\n",
              "      <td>98791</td>\n",
              "      <td>79147</td>\n",
              "      <td>Brasil</td>\n",
              "      <td>15</td>\n",
              "      <td>F</td>\n",
              "      <td>7334</td>\n",
              "      <td>9.500000</td>\n",
              "      <td>11/2021</td>\n",
              "      <td>Skirts</td>\n",
              "      <td>Women</td>\n",
              "      <td>7</td>\n",
              "    </tr>\n",
              "    <tr>\n",
              "      <th>4</th>\n",
              "      <td>22787</td>\n",
              "      <td>18170</td>\n",
              "      <td>Brasil</td>\n",
              "      <td>61</td>\n",
              "      <td>F</td>\n",
              "      <td>2014</td>\n",
              "      <td>49.470001</td>\n",
              "      <td>06/2021</td>\n",
              "      <td>Fashion Hoodies &amp; Sweatshirts</td>\n",
              "      <td>Women</td>\n",
              "      <td>2</td>\n",
              "    </tr>\n",
              "    <tr>\n",
              "      <th>5</th>\n",
              "      <td>77324</td>\n",
              "      <td>61908</td>\n",
              "      <td>Brasil</td>\n",
              "      <td>37</td>\n",
              "      <td>F</td>\n",
              "      <td>7502</td>\n",
              "      <td>59.990002</td>\n",
              "      <td>None</td>\n",
              "      <td>Blazers &amp; Jackets</td>\n",
              "      <td>Women</td>\n",
              "      <td>5</td>\n",
              "    </tr>\n",
              "    <tr>\n",
              "      <th>6</th>\n",
              "      <td>85553</td>\n",
              "      <td>68521</td>\n",
              "      <td>Brasil</td>\n",
              "      <td>32</td>\n",
              "      <td>F</td>\n",
              "      <td>5049</td>\n",
              "      <td>44.990002</td>\n",
              "      <td>03/2022</td>\n",
              "      <td>Jeans</td>\n",
              "      <td>Women</td>\n",
              "      <td>4</td>\n",
              "    </tr>\n",
              "    <tr>\n",
              "      <th>7</th>\n",
              "      <td>85552</td>\n",
              "      <td>68521</td>\n",
              "      <td>Brasil</td>\n",
              "      <td>32</td>\n",
              "      <td>F</td>\n",
              "      <td>1567</td>\n",
              "      <td>98.000000</td>\n",
              "      <td>None</td>\n",
              "      <td>Fashion Hoodies &amp; Sweatshirts</td>\n",
              "      <td>Women</td>\n",
              "      <td>6</td>\n",
              "    </tr>\n",
              "    <tr>\n",
              "      <th>8</th>\n",
              "      <td>85552</td>\n",
              "      <td>68521</td>\n",
              "      <td>Brasil</td>\n",
              "      <td>32</td>\n",
              "      <td>F</td>\n",
              "      <td>218</td>\n",
              "      <td>10.620000</td>\n",
              "      <td>None</td>\n",
              "      <td>Tops &amp; Tees</td>\n",
              "      <td>Women</td>\n",
              "      <td>9</td>\n",
              "    </tr>\n",
              "    <tr>\n",
              "      <th>9</th>\n",
              "      <td>50360</td>\n",
              "      <td>40279</td>\n",
              "      <td>Brasil</td>\n",
              "      <td>29</td>\n",
              "      <td>F</td>\n",
              "      <td>5859</td>\n",
              "      <td>8.900000</td>\n",
              "      <td>09/2021</td>\n",
              "      <td>Leggings</td>\n",
              "      <td>Women</td>\n",
              "      <td>7</td>\n",
              "    </tr>\n",
              "  </tbody>\n",
              "</table>\n",
              "</div>\n",
              "      <button class=\"colab-df-convert\" onclick=\"convertToInteractive('df-5e3ebbfc-d788-45d7-9380-d31b9bce4d61')\"\n",
              "              title=\"Convert this dataframe to an interactive table.\"\n",
              "              style=\"display:none;\">\n",
              "        \n",
              "  <svg xmlns=\"http://www.w3.org/2000/svg\" height=\"24px\"viewBox=\"0 0 24 24\"\n",
              "       width=\"24px\">\n",
              "    <path d=\"M0 0h24v24H0V0z\" fill=\"none\"/>\n",
              "    <path d=\"M18.56 5.44l.94 2.06.94-2.06 2.06-.94-2.06-.94-.94-2.06-.94 2.06-2.06.94zm-11 1L8.5 8.5l.94-2.06 2.06-.94-2.06-.94L8.5 2.5l-.94 2.06-2.06.94zm10 10l.94 2.06.94-2.06 2.06-.94-2.06-.94-.94-2.06-.94 2.06-2.06.94z\"/><path d=\"M17.41 7.96l-1.37-1.37c-.4-.4-.92-.59-1.43-.59-.52 0-1.04.2-1.43.59L10.3 9.45l-7.72 7.72c-.78.78-.78 2.05 0 2.83L4 21.41c.39.39.9.59 1.41.59.51 0 1.02-.2 1.41-.59l7.78-7.78 2.81-2.81c.8-.78.8-2.07 0-2.86zM5.41 20L4 18.59l7.72-7.72 1.47 1.35L5.41 20z\"/>\n",
              "  </svg>\n",
              "      </button>\n",
              "      \n",
              "  <style>\n",
              "    .colab-df-container {\n",
              "      display:flex;\n",
              "      flex-wrap:wrap;\n",
              "      gap: 12px;\n",
              "    }\n",
              "\n",
              "    .colab-df-convert {\n",
              "      background-color: #E8F0FE;\n",
              "      border: none;\n",
              "      border-radius: 50%;\n",
              "      cursor: pointer;\n",
              "      display: none;\n",
              "      fill: #1967D2;\n",
              "      height: 32px;\n",
              "      padding: 0 0 0 0;\n",
              "      width: 32px;\n",
              "    }\n",
              "\n",
              "    .colab-df-convert:hover {\n",
              "      background-color: #E2EBFA;\n",
              "      box-shadow: 0px 1px 2px rgba(60, 64, 67, 0.3), 0px 1px 3px 1px rgba(60, 64, 67, 0.15);\n",
              "      fill: #174EA6;\n",
              "    }\n",
              "\n",
              "    [theme=dark] .colab-df-convert {\n",
              "      background-color: #3B4455;\n",
              "      fill: #D2E3FC;\n",
              "    }\n",
              "\n",
              "    [theme=dark] .colab-df-convert:hover {\n",
              "      background-color: #434B5C;\n",
              "      box-shadow: 0px 1px 3px 1px rgba(0, 0, 0, 0.15);\n",
              "      filter: drop-shadow(0px 1px 2px rgba(0, 0, 0, 0.3));\n",
              "      fill: #FFFFFF;\n",
              "    }\n",
              "  </style>\n",
              "\n",
              "      <script>\n",
              "        const buttonEl =\n",
              "          document.querySelector('#df-5e3ebbfc-d788-45d7-9380-d31b9bce4d61 button.colab-df-convert');\n",
              "        buttonEl.style.display =\n",
              "          google.colab.kernel.accessAllowed ? 'block' : 'none';\n",
              "\n",
              "        async function convertToInteractive(key) {\n",
              "          const element = document.querySelector('#df-5e3ebbfc-d788-45d7-9380-d31b9bce4d61');\n",
              "          const dataTable =\n",
              "            await google.colab.kernel.invokeFunction('convertToInteractive',\n",
              "                                                     [key], {});\n",
              "          if (!dataTable) return;\n",
              "\n",
              "          const docLinkHtml = 'Like what you see? Visit the ' +\n",
              "            '<a target=\"_blank\" href=https://colab.research.google.com/notebooks/data_table.ipynb>data table notebook</a>'\n",
              "            + ' to learn more about interactive tables.';\n",
              "          element.innerHTML = '';\n",
              "          dataTable['output_type'] = 'display_data';\n",
              "          await google.colab.output.renderOutput(dataTable, element);\n",
              "          const docLink = document.createElement('div');\n",
              "          docLink.innerHTML = docLinkHtml;\n",
              "          element.appendChild(docLink);\n",
              "        }\n",
              "      </script>\n",
              "    </div>\n",
              "  </div>\n",
              "  "
            ],
            "application/vnd.google.colaboratory.module+javascript": "\n      import \"https://ssl.gstatic.com/colaboratory/data_table/f872b2c2305463fd/data_table.js\";\n\n      window.createDataTable({\n        data: [[{\n            'v': 0,\n            'f': \"0\",\n        },\n{\n            'v': 43363,\n            'f': \"43363\",\n        },\n{\n            'v': 34633,\n            'f': \"34633\",\n        },\n\"Japan\",\n{\n            'v': 56,\n            'f': \"56\",\n        },\n\"F\",\n{\n            'v': 8644,\n            'f': \"8644\",\n        },\n{\n            'v': 75.0,\n            'f': \"75.0\",\n        },\n\"10/2021\",\n\"Outerwear & Coats\",\n\"Women\",\n{\n            'v': 3,\n            'f': \"3\",\n        }],\n [{\n            'v': 1,\n            'f': \"1\",\n        },\n{\n            'v': 114569,\n            'f': \"114569\",\n        },\n{\n            'v': 91659,\n            'f': \"91659\",\n        },\n\"Japan\",\n{\n            'v': 63,\n            'f': \"63\",\n        },\n\"F\",\n{\n            'v': 10346,\n            'f': \"10346\",\n        },\n{\n            'v': 36.0,\n            'f': \"36.0\",\n        },\n\"12/2021\",\n\"Intimates\",\n\"Women\",\n{\n            'v': 2,\n            'f': \"2\",\n        }],\n [{\n            'v': 2,\n            'f': \"2\",\n        },\n{\n            'v': 2758,\n            'f': \"2758\",\n        },\n{\n            'v': 2173,\n            'f': \"2173\",\n        },\n\"Brasil\",\n{\n            'v': 29,\n            'f': \"29\",\n        },\n\"F\",\n{\n            'v': 15308,\n            'f': \"15308\",\n        },\n{\n            'v': 48.0,\n            'f': \"48.0\",\n        },\nnull,\n\"Plus\",\n\"Women\",\n{\n            'v': 8,\n            'f': \"8\",\n        }],\n [{\n            'v': 3,\n            'f': \"3\",\n        },\n{\n            'v': 98791,\n            'f': \"98791\",\n        },\n{\n            'v': 79147,\n            'f': \"79147\",\n        },\n\"Brasil\",\n{\n            'v': 15,\n            'f': \"15\",\n        },\n\"F\",\n{\n            'v': 7334,\n            'f': \"7334\",\n        },\n{\n            'v': 9.5,\n            'f': \"9.5\",\n        },\n\"11/2021\",\n\"Skirts\",\n\"Women\",\n{\n            'v': 7,\n            'f': \"7\",\n        }],\n [{\n            'v': 4,\n            'f': \"4\",\n        },\n{\n            'v': 22787,\n            'f': \"22787\",\n        },\n{\n            'v': 18170,\n            'f': \"18170\",\n        },\n\"Brasil\",\n{\n            'v': 61,\n            'f': \"61\",\n        },\n\"F\",\n{\n            'v': 2014,\n            'f': \"2014\",\n        },\n{\n            'v': 49.470001220703125,\n            'f': \"49.470001220703125\",\n        },\n\"06/2021\",\n\"Fashion Hoodies & Sweatshirts\",\n\"Women\",\n{\n            'v': 2,\n            'f': \"2\",\n        }],\n [{\n            'v': 5,\n            'f': \"5\",\n        },\n{\n            'v': 77324,\n            'f': \"77324\",\n        },\n{\n            'v': 61908,\n            'f': \"61908\",\n        },\n\"Brasil\",\n{\n            'v': 37,\n            'f': \"37\",\n        },\n\"F\",\n{\n            'v': 7502,\n            'f': \"7502\",\n        },\n{\n            'v': 59.9900016784668,\n            'f': \"59.9900016784668\",\n        },\nnull,\n\"Blazers & Jackets\",\n\"Women\",\n{\n            'v': 5,\n            'f': \"5\",\n        }],\n [{\n            'v': 6,\n            'f': \"6\",\n        },\n{\n            'v': 85553,\n            'f': \"85553\",\n        },\n{\n            'v': 68521,\n            'f': \"68521\",\n        },\n\"Brasil\",\n{\n            'v': 32,\n            'f': \"32\",\n        },\n\"F\",\n{\n            'v': 5049,\n            'f': \"5049\",\n        },\n{\n            'v': 44.9900016784668,\n            'f': \"44.9900016784668\",\n        },\n\"03/2022\",\n\"Jeans\",\n\"Women\",\n{\n            'v': 4,\n            'f': \"4\",\n        }],\n [{\n            'v': 7,\n            'f': \"7\",\n        },\n{\n            'v': 85552,\n            'f': \"85552\",\n        },\n{\n            'v': 68521,\n            'f': \"68521\",\n        },\n\"Brasil\",\n{\n            'v': 32,\n            'f': \"32\",\n        },\n\"F\",\n{\n            'v': 1567,\n            'f': \"1567\",\n        },\n{\n            'v': 98.0,\n            'f': \"98.0\",\n        },\nnull,\n\"Fashion Hoodies & Sweatshirts\",\n\"Women\",\n{\n            'v': 6,\n            'f': \"6\",\n        }],\n [{\n            'v': 8,\n            'f': \"8\",\n        },\n{\n            'v': 85552,\n            'f': \"85552\",\n        },\n{\n            'v': 68521,\n            'f': \"68521\",\n        },\n\"Brasil\",\n{\n            'v': 32,\n            'f': \"32\",\n        },\n\"F\",\n{\n            'v': 218,\n            'f': \"218\",\n        },\n{\n            'v': 10.619999885559082,\n            'f': \"10.619999885559082\",\n        },\nnull,\n\"Tops & Tees\",\n\"Women\",\n{\n            'v': 9,\n            'f': \"9\",\n        }],\n [{\n            'v': 9,\n            'f': \"9\",\n        },\n{\n            'v': 50360,\n            'f': \"50360\",\n        },\n{\n            'v': 40279,\n            'f': \"40279\",\n        },\n\"Brasil\",\n{\n            'v': 29,\n            'f': \"29\",\n        },\n\"F\",\n{\n            'v': 5859,\n            'f': \"5859\",\n        },\n{\n            'v': 8.899999618530273,\n            'f': \"8.899999618530273\",\n        },\n\"09/2021\",\n\"Leggings\",\n\"Women\",\n{\n            'v': 7,\n            'f': \"7\",\n        }]],\n        columns: [[\"number\", \"index\"], [\"number\", \"order_id\"], [\"number\", \"user_id\"], [\"string\", \"country\"], [\"number\", \"age\"], [\"string\", \"gender\"], [\"number\", \"product_id\"], [\"number\", \"sale_price\"], [\"string\", \"shipped_at\"], [\"string\", \"category\"], [\"string\", \"department\"], [\"number\", \"distribution_center_id\"]],\n        columnOptions: [{\"width\": \"1px\", \"className\": \"index_column\"}],\n        rowsPerPage: 25,\n        helpUrl: \"https://colab.research.google.com/notebooks/data_table.ipynb\",\n        suppressOutputScrolling: true,\n        minimumWidth: undefined,\n      });\n    "
          },
          "metadata": {},
          "execution_count": 11
        }
      ]
    },
    {
      "cell_type": "code",
      "source": [
        "orders.info()\n",
        "\n",
        "# 181,183 rows, 11 columns"
      ],
      "metadata": {
        "colab": {
          "base_uri": "https://localhost:8080/"
        },
        "id": "LEbrhhVZlu3p",
        "outputId": "c02851ef-c40b-48ee-ed82-4c5ab284f040"
      },
      "execution_count": null,
      "outputs": [
        {
          "output_type": "stream",
          "name": "stdout",
          "text": [
            "<class 'pandas.core.frame.DataFrame'>\n",
            "RangeIndex: 181183 entries, 0 to 181182\n",
            "Data columns (total 11 columns):\n",
            " #   Column                  Non-Null Count   Dtype  \n",
            "---  ------                  --------------   -----  \n",
            " 0   order_id                181183 non-null  int64  \n",
            " 1   user_id                 181183 non-null  int64  \n",
            " 2   country                 181183 non-null  object \n",
            " 3   age                     181183 non-null  int64  \n",
            " 4   gender                  181183 non-null  object \n",
            " 5   product_id              181183 non-null  int64  \n",
            " 6   sale_price              181183 non-null  float64\n",
            " 7   shipped_at              117160 non-null  object \n",
            " 8   category                181183 non-null  object \n",
            " 9   department              181183 non-null  object \n",
            " 10  distribution_center_id  181183 non-null  int64  \n",
            "dtypes: float64(1), int64(5), object(5)\n",
            "memory usage: 15.2+ MB\n"
          ]
        }
      ]
    },
    {
      "cell_type": "code",
      "source": [
        "orders.isna().sum()\n",
        "\n",
        "# 64,023 orders have not shipped"
      ],
      "metadata": {
        "colab": {
          "base_uri": "https://localhost:8080/"
        },
        "id": "RE8mIRDfFGla",
        "outputId": "e356a319-f295-4931-cf29-12f6db9ff698"
      },
      "execution_count": null,
      "outputs": [
        {
          "output_type": "execute_result",
          "data": {
            "text/plain": [
              "order_id                      0\n",
              "user_id                       0\n",
              "country                       0\n",
              "age                           0\n",
              "gender                        0\n",
              "product_id                    0\n",
              "sale_price                    0\n",
              "shipped_at                64023\n",
              "category                      0\n",
              "department                    0\n",
              "distribution_center_id        0\n",
              "dtype: int64"
            ]
          },
          "metadata": {},
          "execution_count": 13
        }
      ]
    },
    {
      "cell_type": "code",
      "source": [
        "import pandas as pd\n",
        "orders['shipped_at'] = pd.to_datetime(orders['shipped_at'])"
      ],
      "metadata": {
        "id": "oQ8BUkK1rOxi"
      },
      "execution_count": null,
      "outputs": []
    },
    {
      "cell_type": "code",
      "source": [
        "orders.describe()"
      ],
      "metadata": {
        "id": "0xpkyLuZlZxV",
        "colab": {
          "base_uri": "https://localhost:8080/",
          "height": 262
        },
        "outputId": "c987658f-f420-4d13-9be6-74723f757c46"
      },
      "execution_count": null,
      "outputs": [
        {
          "output_type": "execute_result",
          "data": {
            "text/plain": [
              "            order_id        user_id            age     product_id  \\\n",
              "count  181183.000000  181183.000000  181183.000000  181183.000000   \n",
              "mean    62526.056815   50034.125106      41.061027   15286.204484   \n",
              "std     36085.895528   28907.558281      16.980522    8391.898797   \n",
              "min         1.000000       1.000000      12.000000       1.000000   \n",
              "25%     31286.000000   24982.000000      26.000000    8044.000000   \n",
              "50%     62506.000000   50001.000000      41.000000   15997.000000   \n",
              "75%     93769.000000   75145.000000      56.000000   22524.000000   \n",
              "max    125019.000000   99999.000000      70.000000   29120.000000   \n",
              "\n",
              "          sale_price  distribution_center_id  \n",
              "count  181183.000000           181183.000000  \n",
              "mean       59.575884                5.001082  \n",
              "std        66.652147                2.901381  \n",
              "min         0.020000                1.000000  \n",
              "25%        24.500000                2.000000  \n",
              "50%        39.990002                5.000000  \n",
              "75%        69.949997                8.000000  \n",
              "max       999.000000               10.000000  "
            ],
            "text/html": [
              "\n",
              "  <div id=\"df-54efd849-5817-4b30-98a3-179feb8f84c7\">\n",
              "    <div class=\"colab-df-container\">\n",
              "      <div>\n",
              "<style scoped>\n",
              "    .dataframe tbody tr th:only-of-type {\n",
              "        vertical-align: middle;\n",
              "    }\n",
              "\n",
              "    .dataframe tbody tr th {\n",
              "        vertical-align: top;\n",
              "    }\n",
              "\n",
              "    .dataframe thead th {\n",
              "        text-align: right;\n",
              "    }\n",
              "</style>\n",
              "<table border=\"1\" class=\"dataframe\">\n",
              "  <thead>\n",
              "    <tr style=\"text-align: right;\">\n",
              "      <th></th>\n",
              "      <th>order_id</th>\n",
              "      <th>user_id</th>\n",
              "      <th>age</th>\n",
              "      <th>product_id</th>\n",
              "      <th>sale_price</th>\n",
              "      <th>distribution_center_id</th>\n",
              "    </tr>\n",
              "  </thead>\n",
              "  <tbody>\n",
              "    <tr>\n",
              "      <th>count</th>\n",
              "      <td>181183.000000</td>\n",
              "      <td>181183.000000</td>\n",
              "      <td>181183.000000</td>\n",
              "      <td>181183.000000</td>\n",
              "      <td>181183.000000</td>\n",
              "      <td>181183.000000</td>\n",
              "    </tr>\n",
              "    <tr>\n",
              "      <th>mean</th>\n",
              "      <td>62526.056815</td>\n",
              "      <td>50034.125106</td>\n",
              "      <td>41.061027</td>\n",
              "      <td>15286.204484</td>\n",
              "      <td>59.575884</td>\n",
              "      <td>5.001082</td>\n",
              "    </tr>\n",
              "    <tr>\n",
              "      <th>std</th>\n",
              "      <td>36085.895528</td>\n",
              "      <td>28907.558281</td>\n",
              "      <td>16.980522</td>\n",
              "      <td>8391.898797</td>\n",
              "      <td>66.652147</td>\n",
              "      <td>2.901381</td>\n",
              "    </tr>\n",
              "    <tr>\n",
              "      <th>min</th>\n",
              "      <td>1.000000</td>\n",
              "      <td>1.000000</td>\n",
              "      <td>12.000000</td>\n",
              "      <td>1.000000</td>\n",
              "      <td>0.020000</td>\n",
              "      <td>1.000000</td>\n",
              "    </tr>\n",
              "    <tr>\n",
              "      <th>25%</th>\n",
              "      <td>31286.000000</td>\n",
              "      <td>24982.000000</td>\n",
              "      <td>26.000000</td>\n",
              "      <td>8044.000000</td>\n",
              "      <td>24.500000</td>\n",
              "      <td>2.000000</td>\n",
              "    </tr>\n",
              "    <tr>\n",
              "      <th>50%</th>\n",
              "      <td>62506.000000</td>\n",
              "      <td>50001.000000</td>\n",
              "      <td>41.000000</td>\n",
              "      <td>15997.000000</td>\n",
              "      <td>39.990002</td>\n",
              "      <td>5.000000</td>\n",
              "    </tr>\n",
              "    <tr>\n",
              "      <th>75%</th>\n",
              "      <td>93769.000000</td>\n",
              "      <td>75145.000000</td>\n",
              "      <td>56.000000</td>\n",
              "      <td>22524.000000</td>\n",
              "      <td>69.949997</td>\n",
              "      <td>8.000000</td>\n",
              "    </tr>\n",
              "    <tr>\n",
              "      <th>max</th>\n",
              "      <td>125019.000000</td>\n",
              "      <td>99999.000000</td>\n",
              "      <td>70.000000</td>\n",
              "      <td>29120.000000</td>\n",
              "      <td>999.000000</td>\n",
              "      <td>10.000000</td>\n",
              "    </tr>\n",
              "  </tbody>\n",
              "</table>\n",
              "</div>\n",
              "      <button class=\"colab-df-convert\" onclick=\"convertToInteractive('df-54efd849-5817-4b30-98a3-179feb8f84c7')\"\n",
              "              title=\"Convert this dataframe to an interactive table.\"\n",
              "              style=\"display:none;\">\n",
              "        \n",
              "  <svg xmlns=\"http://www.w3.org/2000/svg\" height=\"24px\"viewBox=\"0 0 24 24\"\n",
              "       width=\"24px\">\n",
              "    <path d=\"M0 0h24v24H0V0z\" fill=\"none\"/>\n",
              "    <path d=\"M18.56 5.44l.94 2.06.94-2.06 2.06-.94-2.06-.94-.94-2.06-.94 2.06-2.06.94zm-11 1L8.5 8.5l.94-2.06 2.06-.94-2.06-.94L8.5 2.5l-.94 2.06-2.06.94zm10 10l.94 2.06.94-2.06 2.06-.94-2.06-.94-.94-2.06-.94 2.06-2.06.94z\"/><path d=\"M17.41 7.96l-1.37-1.37c-.4-.4-.92-.59-1.43-.59-.52 0-1.04.2-1.43.59L10.3 9.45l-7.72 7.72c-.78.78-.78 2.05 0 2.83L4 21.41c.39.39.9.59 1.41.59.51 0 1.02-.2 1.41-.59l7.78-7.78 2.81-2.81c.8-.78.8-2.07 0-2.86zM5.41 20L4 18.59l7.72-7.72 1.47 1.35L5.41 20z\"/>\n",
              "  </svg>\n",
              "      </button>\n",
              "      \n",
              "  <style>\n",
              "    .colab-df-container {\n",
              "      display:flex;\n",
              "      flex-wrap:wrap;\n",
              "      gap: 12px;\n",
              "    }\n",
              "\n",
              "    .colab-df-convert {\n",
              "      background-color: #E8F0FE;\n",
              "      border: none;\n",
              "      border-radius: 50%;\n",
              "      cursor: pointer;\n",
              "      display: none;\n",
              "      fill: #1967D2;\n",
              "      height: 32px;\n",
              "      padding: 0 0 0 0;\n",
              "      width: 32px;\n",
              "    }\n",
              "\n",
              "    .colab-df-convert:hover {\n",
              "      background-color: #E2EBFA;\n",
              "      box-shadow: 0px 1px 2px rgba(60, 64, 67, 0.3), 0px 1px 3px 1px rgba(60, 64, 67, 0.15);\n",
              "      fill: #174EA6;\n",
              "    }\n",
              "\n",
              "    [theme=dark] .colab-df-convert {\n",
              "      background-color: #3B4455;\n",
              "      fill: #D2E3FC;\n",
              "    }\n",
              "\n",
              "    [theme=dark] .colab-df-convert:hover {\n",
              "      background-color: #434B5C;\n",
              "      box-shadow: 0px 1px 3px 1px rgba(0, 0, 0, 0.15);\n",
              "      filter: drop-shadow(0px 1px 2px rgba(0, 0, 0, 0.3));\n",
              "      fill: #FFFFFF;\n",
              "    }\n",
              "  </style>\n",
              "\n",
              "      <script>\n",
              "        const buttonEl =\n",
              "          document.querySelector('#df-54efd849-5817-4b30-98a3-179feb8f84c7 button.colab-df-convert');\n",
              "        buttonEl.style.display =\n",
              "          google.colab.kernel.accessAllowed ? 'block' : 'none';\n",
              "\n",
              "        async function convertToInteractive(key) {\n",
              "          const element = document.querySelector('#df-54efd849-5817-4b30-98a3-179feb8f84c7');\n",
              "          const dataTable =\n",
              "            await google.colab.kernel.invokeFunction('convertToInteractive',\n",
              "                                                     [key], {});\n",
              "          if (!dataTable) return;\n",
              "\n",
              "          const docLinkHtml = 'Like what you see? Visit the ' +\n",
              "            '<a target=\"_blank\" href=https://colab.research.google.com/notebooks/data_table.ipynb>data table notebook</a>'\n",
              "            + ' to learn more about interactive tables.';\n",
              "          element.innerHTML = '';\n",
              "          dataTable['output_type'] = 'display_data';\n",
              "          await google.colab.output.renderOutput(dataTable, element);\n",
              "          const docLink = document.createElement('div');\n",
              "          docLink.innerHTML = docLinkHtml;\n",
              "          element.appendChild(docLink);\n",
              "        }\n",
              "      </script>\n",
              "    </div>\n",
              "  </div>\n",
              "  "
            ],
            "application/vnd.google.colaboratory.module+javascript": "\n      import \"https://ssl.gstatic.com/colaboratory/data_table/f872b2c2305463fd/data_table.js\";\n\n      window.createDataTable({\n        data: [[\"count\",\n{\n            'v': 181183.0,\n            'f': \"181183.0\",\n        },\n{\n            'v': 181183.0,\n            'f': \"181183.0\",\n        },\n{\n            'v': 181183.0,\n            'f': \"181183.0\",\n        },\n{\n            'v': 181183.0,\n            'f': \"181183.0\",\n        },\n{\n            'v': 181183.0,\n            'f': \"181183.0\",\n        },\n{\n            'v': 181183.0,\n            'f': \"181183.0\",\n        }],\n [\"mean\",\n{\n            'v': 62526.056815484895,\n            'f': \"62526.056815484895\",\n        },\n{\n            'v': 50034.12510555626,\n            'f': \"50034.12510555626\",\n        },\n{\n            'v': 41.06102669676515,\n            'f': \"41.06102669676515\",\n        },\n{\n            'v': 15286.20448386438,\n            'f': \"15286.20448386438\",\n        },\n{\n            'v': 59.57588394780802,\n            'f': \"59.57588394780802\",\n        },\n{\n            'v': 5.00108177919562,\n            'f': \"5.00108177919562\",\n        }],\n [\"std\",\n{\n            'v': 36085.89552795411,\n            'f': \"36085.89552795411\",\n        },\n{\n            'v': 28907.55828128164,\n            'f': \"28907.55828128164\",\n        },\n{\n            'v': 16.980521614925344,\n            'f': \"16.980521614925344\",\n        },\n{\n            'v': 8391.898797127451,\n            'f': \"8391.898797127451\",\n        },\n{\n            'v': 66.65214687522733,\n            'f': \"66.65214687522733\",\n        },\n{\n            'v': 2.9013806108311764,\n            'f': \"2.9013806108311764\",\n        }],\n [\"min\",\n{\n            'v': 1.0,\n            'f': \"1.0\",\n        },\n{\n            'v': 1.0,\n            'f': \"1.0\",\n        },\n{\n            'v': 12.0,\n            'f': \"12.0\",\n        },\n{\n            'v': 1.0,\n            'f': \"1.0\",\n        },\n{\n            'v': 0.0199999995529651,\n            'f': \"0.0199999995529651\",\n        },\n{\n            'v': 1.0,\n            'f': \"1.0\",\n        }],\n [\"25%\",\n{\n            'v': 31286.0,\n            'f': \"31286.0\",\n        },\n{\n            'v': 24982.0,\n            'f': \"24982.0\",\n        },\n{\n            'v': 26.0,\n            'f': \"26.0\",\n        },\n{\n            'v': 8044.0,\n            'f': \"8044.0\",\n        },\n{\n            'v': 24.5,\n            'f': \"24.5\",\n        },\n{\n            'v': 2.0,\n            'f': \"2.0\",\n        }],\n [\"50%\",\n{\n            'v': 62506.0,\n            'f': \"62506.0\",\n        },\n{\n            'v': 50001.0,\n            'f': \"50001.0\",\n        },\n{\n            'v': 41.0,\n            'f': \"41.0\",\n        },\n{\n            'v': 15997.0,\n            'f': \"15997.0\",\n        },\n{\n            'v': 39.9900016784668,\n            'f': \"39.9900016784668\",\n        },\n{\n            'v': 5.0,\n            'f': \"5.0\",\n        }],\n [\"75%\",\n{\n            'v': 93769.0,\n            'f': \"93769.0\",\n        },\n{\n            'v': 75145.0,\n            'f': \"75145.0\",\n        },\n{\n            'v': 56.0,\n            'f': \"56.0\",\n        },\n{\n            'v': 22524.0,\n            'f': \"22524.0\",\n        },\n{\n            'v': 69.94999694824219,\n            'f': \"69.94999694824219\",\n        },\n{\n            'v': 8.0,\n            'f': \"8.0\",\n        }],\n [\"max\",\n{\n            'v': 125019.0,\n            'f': \"125019.0\",\n        },\n{\n            'v': 99999.0,\n            'f': \"99999.0\",\n        },\n{\n            'v': 70.0,\n            'f': \"70.0\",\n        },\n{\n            'v': 29120.0,\n            'f': \"29120.0\",\n        },\n{\n            'v': 999.0,\n            'f': \"999.0\",\n        },\n{\n            'v': 10.0,\n            'f': \"10.0\",\n        }]],\n        columns: [[\"string\", \"index\"], [\"number\", \"order_id\"], [\"number\", \"user_id\"], [\"number\", \"age\"], [\"number\", \"product_id\"], [\"number\", \"sale_price\"], [\"number\", \"distribution_center_id\"]],\n        columnOptions: [{\"width\": \"1px\", \"className\": \"index_column\"}],\n        rowsPerPage: 25,\n        helpUrl: \"https://colab.research.google.com/notebooks/data_table.ipynb\",\n        suppressOutputScrolling: true,\n        minimumWidth: undefined,\n      });\n    "
          },
          "metadata": {},
          "execution_count": 15
        }
      ]
    },
    {
      "cell_type": "code",
      "source": [
        "orders.describe(include='object')"
      ],
      "metadata": {
        "id": "WuTVoXGzllDj",
        "colab": {
          "base_uri": "https://localhost:8080/",
          "height": 176
        },
        "outputId": "8468db50-0fb4-49e9-c317-4844c67173dd"
      },
      "execution_count": null,
      "outputs": [
        {
          "output_type": "execute_result",
          "data": {
            "text/plain": [
              "       country  gender   category department\n",
              "count   181183  181183     181183     181183\n",
              "unique      15       2         26          2\n",
              "top      China       M  Intimates        Men\n",
              "freq     61988   90637      13414      90637"
            ],
            "text/html": [
              "\n",
              "  <div id=\"df-c34db123-f703-45c7-b556-20698f797ef9\">\n",
              "    <div class=\"colab-df-container\">\n",
              "      <div>\n",
              "<style scoped>\n",
              "    .dataframe tbody tr th:only-of-type {\n",
              "        vertical-align: middle;\n",
              "    }\n",
              "\n",
              "    .dataframe tbody tr th {\n",
              "        vertical-align: top;\n",
              "    }\n",
              "\n",
              "    .dataframe thead th {\n",
              "        text-align: right;\n",
              "    }\n",
              "</style>\n",
              "<table border=\"1\" class=\"dataframe\">\n",
              "  <thead>\n",
              "    <tr style=\"text-align: right;\">\n",
              "      <th></th>\n",
              "      <th>country</th>\n",
              "      <th>gender</th>\n",
              "      <th>category</th>\n",
              "      <th>department</th>\n",
              "    </tr>\n",
              "  </thead>\n",
              "  <tbody>\n",
              "    <tr>\n",
              "      <th>count</th>\n",
              "      <td>181183</td>\n",
              "      <td>181183</td>\n",
              "      <td>181183</td>\n",
              "      <td>181183</td>\n",
              "    </tr>\n",
              "    <tr>\n",
              "      <th>unique</th>\n",
              "      <td>15</td>\n",
              "      <td>2</td>\n",
              "      <td>26</td>\n",
              "      <td>2</td>\n",
              "    </tr>\n",
              "    <tr>\n",
              "      <th>top</th>\n",
              "      <td>China</td>\n",
              "      <td>M</td>\n",
              "      <td>Intimates</td>\n",
              "      <td>Men</td>\n",
              "    </tr>\n",
              "    <tr>\n",
              "      <th>freq</th>\n",
              "      <td>61988</td>\n",
              "      <td>90637</td>\n",
              "      <td>13414</td>\n",
              "      <td>90637</td>\n",
              "    </tr>\n",
              "  </tbody>\n",
              "</table>\n",
              "</div>\n",
              "      <button class=\"colab-df-convert\" onclick=\"convertToInteractive('df-c34db123-f703-45c7-b556-20698f797ef9')\"\n",
              "              title=\"Convert this dataframe to an interactive table.\"\n",
              "              style=\"display:none;\">\n",
              "        \n",
              "  <svg xmlns=\"http://www.w3.org/2000/svg\" height=\"24px\"viewBox=\"0 0 24 24\"\n",
              "       width=\"24px\">\n",
              "    <path d=\"M0 0h24v24H0V0z\" fill=\"none\"/>\n",
              "    <path d=\"M18.56 5.44l.94 2.06.94-2.06 2.06-.94-2.06-.94-.94-2.06-.94 2.06-2.06.94zm-11 1L8.5 8.5l.94-2.06 2.06-.94-2.06-.94L8.5 2.5l-.94 2.06-2.06.94zm10 10l.94 2.06.94-2.06 2.06-.94-2.06-.94-.94-2.06-.94 2.06-2.06.94z\"/><path d=\"M17.41 7.96l-1.37-1.37c-.4-.4-.92-.59-1.43-.59-.52 0-1.04.2-1.43.59L10.3 9.45l-7.72 7.72c-.78.78-.78 2.05 0 2.83L4 21.41c.39.39.9.59 1.41.59.51 0 1.02-.2 1.41-.59l7.78-7.78 2.81-2.81c.8-.78.8-2.07 0-2.86zM5.41 20L4 18.59l7.72-7.72 1.47 1.35L5.41 20z\"/>\n",
              "  </svg>\n",
              "      </button>\n",
              "      \n",
              "  <style>\n",
              "    .colab-df-container {\n",
              "      display:flex;\n",
              "      flex-wrap:wrap;\n",
              "      gap: 12px;\n",
              "    }\n",
              "\n",
              "    .colab-df-convert {\n",
              "      background-color: #E8F0FE;\n",
              "      border: none;\n",
              "      border-radius: 50%;\n",
              "      cursor: pointer;\n",
              "      display: none;\n",
              "      fill: #1967D2;\n",
              "      height: 32px;\n",
              "      padding: 0 0 0 0;\n",
              "      width: 32px;\n",
              "    }\n",
              "\n",
              "    .colab-df-convert:hover {\n",
              "      background-color: #E2EBFA;\n",
              "      box-shadow: 0px 1px 2px rgba(60, 64, 67, 0.3), 0px 1px 3px 1px rgba(60, 64, 67, 0.15);\n",
              "      fill: #174EA6;\n",
              "    }\n",
              "\n",
              "    [theme=dark] .colab-df-convert {\n",
              "      background-color: #3B4455;\n",
              "      fill: #D2E3FC;\n",
              "    }\n",
              "\n",
              "    [theme=dark] .colab-df-convert:hover {\n",
              "      background-color: #434B5C;\n",
              "      box-shadow: 0px 1px 3px 1px rgba(0, 0, 0, 0.15);\n",
              "      filter: drop-shadow(0px 1px 2px rgba(0, 0, 0, 0.3));\n",
              "      fill: #FFFFFF;\n",
              "    }\n",
              "  </style>\n",
              "\n",
              "      <script>\n",
              "        const buttonEl =\n",
              "          document.querySelector('#df-c34db123-f703-45c7-b556-20698f797ef9 button.colab-df-convert');\n",
              "        buttonEl.style.display =\n",
              "          google.colab.kernel.accessAllowed ? 'block' : 'none';\n",
              "\n",
              "        async function convertToInteractive(key) {\n",
              "          const element = document.querySelector('#df-c34db123-f703-45c7-b556-20698f797ef9');\n",
              "          const dataTable =\n",
              "            await google.colab.kernel.invokeFunction('convertToInteractive',\n",
              "                                                     [key], {});\n",
              "          if (!dataTable) return;\n",
              "\n",
              "          const docLinkHtml = 'Like what you see? Visit the ' +\n",
              "            '<a target=\"_blank\" href=https://colab.research.google.com/notebooks/data_table.ipynb>data table notebook</a>'\n",
              "            + ' to learn more about interactive tables.';\n",
              "          element.innerHTML = '';\n",
              "          dataTable['output_type'] = 'display_data';\n",
              "          await google.colab.output.renderOutput(dataTable, element);\n",
              "          const docLink = document.createElement('div');\n",
              "          docLink.innerHTML = docLinkHtml;\n",
              "          element.appendChild(docLink);\n",
              "        }\n",
              "      </script>\n",
              "    </div>\n",
              "  </div>\n",
              "  "
            ],
            "application/vnd.google.colaboratory.module+javascript": "\n      import \"https://ssl.gstatic.com/colaboratory/data_table/f872b2c2305463fd/data_table.js\";\n\n      window.createDataTable({\n        data: [[\"count\",\n181183,\n181183,\n181183,\n181183],\n [\"unique\",\n15,\n2,\n26,\n2],\n [\"top\",\n\"China\",\n\"M\",\n\"Intimates\",\n\"Men\"],\n [\"freq\",\n61988,\n90637,\n13414,\n90637]],\n        columns: [[\"string\", \"index\"], [\"string\", \"country\"], [\"string\", \"gender\"], [\"string\", \"category\"], [\"string\", \"department\"]],\n        columnOptions: [{\"width\": \"1px\", \"className\": \"index_column\"}],\n        rowsPerPage: 25,\n        helpUrl: \"https://colab.research.google.com/notebooks/data_table.ipynb\",\n        suppressOutputScrolling: true,\n        minimumWidth: undefined,\n      });\n    "
          },
          "metadata": {},
          "execution_count": 16
        }
      ]
    },
    {
      "cell_type": "code",
      "source": [
        "orders.info()"
      ],
      "metadata": {
        "colab": {
          "base_uri": "https://localhost:8080/"
        },
        "id": "G-J5LWINsBeI",
        "outputId": "cbb2a6b9-989c-45d3-c93b-ea483e45174a"
      },
      "execution_count": null,
      "outputs": [
        {
          "output_type": "stream",
          "name": "stdout",
          "text": [
            "<class 'pandas.core.frame.DataFrame'>\n",
            "RangeIndex: 181183 entries, 0 to 181182\n",
            "Data columns (total 11 columns):\n",
            " #   Column                  Non-Null Count   Dtype         \n",
            "---  ------                  --------------   -----         \n",
            " 0   order_id                181183 non-null  int64         \n",
            " 1   user_id                 181183 non-null  int64         \n",
            " 2   country                 181183 non-null  object        \n",
            " 3   age                     181183 non-null  int64         \n",
            " 4   gender                  181183 non-null  object        \n",
            " 5   product_id              181183 non-null  int64         \n",
            " 6   sale_price              181183 non-null  float64       \n",
            " 7   shipped_at              117160 non-null  datetime64[ns]\n",
            " 8   category                181183 non-null  object        \n",
            " 9   department              181183 non-null  object        \n",
            " 10  distribution_center_id  181183 non-null  int64         \n",
            "dtypes: datetime64[ns](1), float64(1), int64(5), object(4)\n",
            "memory usage: 15.2+ MB\n"
          ]
        }
      ]
    },
    {
      "cell_type": "code",
      "source": [
        "# counts per country\n",
        "\n",
        "orders.country.value_counts()"
      ],
      "metadata": {
        "colab": {
          "base_uri": "https://localhost:8080/"
        },
        "id": "4YoENEABsIuz",
        "outputId": "5ae85c2a-5ed1-416e-84a4-66f1f4bd2740"
      },
      "execution_count": null,
      "outputs": [
        {
          "output_type": "execute_result",
          "data": {
            "text/plain": [
              "China             61988\n",
              "United States     40702\n",
              "Brasil            26548\n",
              "South Korea        9828\n",
              "France             8479\n",
              "United Kingdom     8155\n",
              "Germany            7386\n",
              "Spain              7315\n",
              "Japan              4409\n",
              "Australia          3734\n",
              "Belgium            2185\n",
              "Poland              432\n",
              "Colombia             18\n",
              "Deutschland           2\n",
              "Austria               2\n",
              "Name: country, dtype: int64"
            ]
          },
          "metadata": {},
          "execution_count": 18
        }
      ]
    },
    {
      "cell_type": "code",
      "source": [
        "dc[['id', 'state']]"
      ],
      "metadata": {
        "colab": {
          "base_uri": "https://localhost:8080/",
          "height": 305
        },
        "id": "ZhMhKhE-H7m-",
        "outputId": "50f366b8-fe33-41d6-e2a2-66e13c5779a4"
      },
      "execution_count": null,
      "outputs": [
        {
          "output_type": "execute_result",
          "data": {
            "text/plain": [
              "   id state\n",
              "0   1    TN\n",
              "1   2    IL\n",
              "2   3    TX\n",
              "3   4    CA\n",
              "4   5    LA\n",
              "5   6    NJ\n",
              "6   7    PA\n",
              "7   8    AL\n",
              "8   9    SC\n",
              "9  10    GA"
            ],
            "text/html": [
              "\n",
              "  <div id=\"df-f5501b59-7bb1-4146-8ab1-e6a2d403d350\">\n",
              "    <div class=\"colab-df-container\">\n",
              "      <div>\n",
              "<style scoped>\n",
              "    .dataframe tbody tr th:only-of-type {\n",
              "        vertical-align: middle;\n",
              "    }\n",
              "\n",
              "    .dataframe tbody tr th {\n",
              "        vertical-align: top;\n",
              "    }\n",
              "\n",
              "    .dataframe thead th {\n",
              "        text-align: right;\n",
              "    }\n",
              "</style>\n",
              "<table border=\"1\" class=\"dataframe\">\n",
              "  <thead>\n",
              "    <tr style=\"text-align: right;\">\n",
              "      <th></th>\n",
              "      <th>id</th>\n",
              "      <th>state</th>\n",
              "    </tr>\n",
              "  </thead>\n",
              "  <tbody>\n",
              "    <tr>\n",
              "      <th>0</th>\n",
              "      <td>1</td>\n",
              "      <td>TN</td>\n",
              "    </tr>\n",
              "    <tr>\n",
              "      <th>1</th>\n",
              "      <td>2</td>\n",
              "      <td>IL</td>\n",
              "    </tr>\n",
              "    <tr>\n",
              "      <th>2</th>\n",
              "      <td>3</td>\n",
              "      <td>TX</td>\n",
              "    </tr>\n",
              "    <tr>\n",
              "      <th>3</th>\n",
              "      <td>4</td>\n",
              "      <td>CA</td>\n",
              "    </tr>\n",
              "    <tr>\n",
              "      <th>4</th>\n",
              "      <td>5</td>\n",
              "      <td>LA</td>\n",
              "    </tr>\n",
              "    <tr>\n",
              "      <th>5</th>\n",
              "      <td>6</td>\n",
              "      <td>NJ</td>\n",
              "    </tr>\n",
              "    <tr>\n",
              "      <th>6</th>\n",
              "      <td>7</td>\n",
              "      <td>PA</td>\n",
              "    </tr>\n",
              "    <tr>\n",
              "      <th>7</th>\n",
              "      <td>8</td>\n",
              "      <td>AL</td>\n",
              "    </tr>\n",
              "    <tr>\n",
              "      <th>8</th>\n",
              "      <td>9</td>\n",
              "      <td>SC</td>\n",
              "    </tr>\n",
              "    <tr>\n",
              "      <th>9</th>\n",
              "      <td>10</td>\n",
              "      <td>GA</td>\n",
              "    </tr>\n",
              "  </tbody>\n",
              "</table>\n",
              "</div>\n",
              "      <button class=\"colab-df-convert\" onclick=\"convertToInteractive('df-f5501b59-7bb1-4146-8ab1-e6a2d403d350')\"\n",
              "              title=\"Convert this dataframe to an interactive table.\"\n",
              "              style=\"display:none;\">\n",
              "        \n",
              "  <svg xmlns=\"http://www.w3.org/2000/svg\" height=\"24px\"viewBox=\"0 0 24 24\"\n",
              "       width=\"24px\">\n",
              "    <path d=\"M0 0h24v24H0V0z\" fill=\"none\"/>\n",
              "    <path d=\"M18.56 5.44l.94 2.06.94-2.06 2.06-.94-2.06-.94-.94-2.06-.94 2.06-2.06.94zm-11 1L8.5 8.5l.94-2.06 2.06-.94-2.06-.94L8.5 2.5l-.94 2.06-2.06.94zm10 10l.94 2.06.94-2.06 2.06-.94-2.06-.94-.94-2.06-.94 2.06-2.06.94z\"/><path d=\"M17.41 7.96l-1.37-1.37c-.4-.4-.92-.59-1.43-.59-.52 0-1.04.2-1.43.59L10.3 9.45l-7.72 7.72c-.78.78-.78 2.05 0 2.83L4 21.41c.39.39.9.59 1.41.59.51 0 1.02-.2 1.41-.59l7.78-7.78 2.81-2.81c.8-.78.8-2.07 0-2.86zM5.41 20L4 18.59l7.72-7.72 1.47 1.35L5.41 20z\"/>\n",
              "  </svg>\n",
              "      </button>\n",
              "      \n",
              "  <style>\n",
              "    .colab-df-container {\n",
              "      display:flex;\n",
              "      flex-wrap:wrap;\n",
              "      gap: 12px;\n",
              "    }\n",
              "\n",
              "    .colab-df-convert {\n",
              "      background-color: #E8F0FE;\n",
              "      border: none;\n",
              "      border-radius: 50%;\n",
              "      cursor: pointer;\n",
              "      display: none;\n",
              "      fill: #1967D2;\n",
              "      height: 32px;\n",
              "      padding: 0 0 0 0;\n",
              "      width: 32px;\n",
              "    }\n",
              "\n",
              "    .colab-df-convert:hover {\n",
              "      background-color: #E2EBFA;\n",
              "      box-shadow: 0px 1px 2px rgba(60, 64, 67, 0.3), 0px 1px 3px 1px rgba(60, 64, 67, 0.15);\n",
              "      fill: #174EA6;\n",
              "    }\n",
              "\n",
              "    [theme=dark] .colab-df-convert {\n",
              "      background-color: #3B4455;\n",
              "      fill: #D2E3FC;\n",
              "    }\n",
              "\n",
              "    [theme=dark] .colab-df-convert:hover {\n",
              "      background-color: #434B5C;\n",
              "      box-shadow: 0px 1px 3px 1px rgba(0, 0, 0, 0.15);\n",
              "      filter: drop-shadow(0px 1px 2px rgba(0, 0, 0, 0.3));\n",
              "      fill: #FFFFFF;\n",
              "    }\n",
              "  </style>\n",
              "\n",
              "      <script>\n",
              "        const buttonEl =\n",
              "          document.querySelector('#df-f5501b59-7bb1-4146-8ab1-e6a2d403d350 button.colab-df-convert');\n",
              "        buttonEl.style.display =\n",
              "          google.colab.kernel.accessAllowed ? 'block' : 'none';\n",
              "\n",
              "        async function convertToInteractive(key) {\n",
              "          const element = document.querySelector('#df-f5501b59-7bb1-4146-8ab1-e6a2d403d350');\n",
              "          const dataTable =\n",
              "            await google.colab.kernel.invokeFunction('convertToInteractive',\n",
              "                                                     [key], {});\n",
              "          if (!dataTable) return;\n",
              "\n",
              "          const docLinkHtml = 'Like what you see? Visit the ' +\n",
              "            '<a target=\"_blank\" href=https://colab.research.google.com/notebooks/data_table.ipynb>data table notebook</a>'\n",
              "            + ' to learn more about interactive tables.';\n",
              "          element.innerHTML = '';\n",
              "          dataTable['output_type'] = 'display_data';\n",
              "          await google.colab.output.renderOutput(dataTable, element);\n",
              "          const docLink = document.createElement('div');\n",
              "          docLink.innerHTML = docLinkHtml;\n",
              "          element.appendChild(docLink);\n",
              "        }\n",
              "      </script>\n",
              "    </div>\n",
              "  </div>\n",
              "  "
            ],
            "application/vnd.google.colaboratory.module+javascript": "\n      import \"https://ssl.gstatic.com/colaboratory/data_table/f872b2c2305463fd/data_table.js\";\n\n      window.createDataTable({\n        data: [[{\n            'v': 0,\n            'f': \"0\",\n        },\n{\n            'v': 1,\n            'f': \"1\",\n        },\n\"TN\"],\n [{\n            'v': 1,\n            'f': \"1\",\n        },\n{\n            'v': 2,\n            'f': \"2\",\n        },\n\"IL\"],\n [{\n            'v': 2,\n            'f': \"2\",\n        },\n{\n            'v': 3,\n            'f': \"3\",\n        },\n\"TX\"],\n [{\n            'v': 3,\n            'f': \"3\",\n        },\n{\n            'v': 4,\n            'f': \"4\",\n        },\n\"CA\"],\n [{\n            'v': 4,\n            'f': \"4\",\n        },\n{\n            'v': 5,\n            'f': \"5\",\n        },\n\"LA\"],\n [{\n            'v': 5,\n            'f': \"5\",\n        },\n{\n            'v': 6,\n            'f': \"6\",\n        },\n\"NJ\"],\n [{\n            'v': 6,\n            'f': \"6\",\n        },\n{\n            'v': 7,\n            'f': \"7\",\n        },\n\"PA\"],\n [{\n            'v': 7,\n            'f': \"7\",\n        },\n{\n            'v': 8,\n            'f': \"8\",\n        },\n\"AL\"],\n [{\n            'v': 8,\n            'f': \"8\",\n        },\n{\n            'v': 9,\n            'f': \"9\",\n        },\n\"SC\"],\n [{\n            'v': 9,\n            'f': \"9\",\n        },\n{\n            'v': 10,\n            'f': \"10\",\n        },\n\"GA\"]],\n        columns: [[\"number\", \"index\"], [\"number\", \"id\"], [\"string\", \"state\"]],\n        columnOptions: [{\"width\": \"1px\", \"className\": \"index_column\"}],\n        rowsPerPage: 25,\n        helpUrl: \"https://colab.research.google.com/notebooks/data_table.ipynb\",\n        suppressOutputScrolling: true,\n        minimumWidth: undefined,\n      });\n    "
          },
          "metadata": {},
          "execution_count": 19
        }
      ]
    },
    {
      "cell_type": "code",
      "source": [
        "# Adding Distribution Centers to orders data set\n",
        "\n",
        "orders['dc_state'] = orders['distribution_center_id'].map({1:'TN', 2:'IL', 3:'TX', 4:'CA', 5:'LA', 6:'NJ', 7:'PA', 8:'AL', 9:'SC', 10:'GA'})"
      ],
      "metadata": {
        "id": "QKTyVeojtIWY"
      },
      "execution_count": null,
      "outputs": []
    },
    {
      "cell_type": "code",
      "source": [
        "orders['sale_price'] = orders['sale_price'].apply(lambda p: round(p,2))"
      ],
      "metadata": {
        "id": "yUC_HO_xoKbF"
      },
      "execution_count": null,
      "outputs": []
    },
    {
      "cell_type": "code",
      "source": [
        "orders.info()"
      ],
      "metadata": {
        "colab": {
          "base_uri": "https://localhost:8080/"
        },
        "id": "7XaHtSiafaJB",
        "outputId": "e0d40a9c-2013-42ab-8f07-9978c1bd4553"
      },
      "execution_count": null,
      "outputs": [
        {
          "output_type": "stream",
          "name": "stdout",
          "text": [
            "<class 'pandas.core.frame.DataFrame'>\n",
            "RangeIndex: 181183 entries, 0 to 181182\n",
            "Data columns (total 12 columns):\n",
            " #   Column                  Non-Null Count   Dtype         \n",
            "---  ------                  --------------   -----         \n",
            " 0   order_id                181183 non-null  int64         \n",
            " 1   user_id                 181183 non-null  int64         \n",
            " 2   country                 181183 non-null  object        \n",
            " 3   age                     181183 non-null  int64         \n",
            " 4   gender                  181183 non-null  object        \n",
            " 5   product_id              181183 non-null  int64         \n",
            " 6   sale_price              181183 non-null  float64       \n",
            " 7   shipped_at              117160 non-null  datetime64[ns]\n",
            " 8   category                181183 non-null  object        \n",
            " 9   department              181183 non-null  object        \n",
            " 10  distribution_center_id  181183 non-null  int64         \n",
            " 11  dc_state                181183 non-null  object        \n",
            "dtypes: datetime64[ns](1), float64(1), int64(5), object(5)\n",
            "memory usage: 16.6+ MB\n"
          ]
        }
      ]
    },
    {
      "cell_type": "code",
      "source": [
        "# age distribution\n",
        "\n",
        "import seaborn as sns\n",
        "import matplotlib.pyplot as plt\n",
        "sns.displot(orders['age'],kde=False)"
      ],
      "metadata": {
        "colab": {
          "base_uri": "https://localhost:8080/",
          "height": 386
        },
        "id": "-EwAb6SM-USR",
        "outputId": "fd7b154c-0381-41ac-ab21-3c28812a5ee7"
      },
      "execution_count": null,
      "outputs": [
        {
          "output_type": "execute_result",
          "data": {
            "text/plain": [
              "<seaborn.axisgrid.FacetGrid at 0x7fecb9cb5910>"
            ]
          },
          "metadata": {},
          "execution_count": 23
        },
        {
          "output_type": "display_data",
          "data": {
            "text/plain": [
              "<Figure size 360x360 with 1 Axes>"
            ],
            "image/png": "[encoded data removed]"
          },
          "metadata": {
            "needs_background": "light"
          }
        }
      ]
    },
    {
      "cell_type": "code",
      "source": [
        "# Comparing number of orders by gender\n",
        "\n",
        "plt.figure(figsize=(6,4))\n",
        "sns.countplot(x='gender', data=orders)"
      ],
      "metadata": {
        "colab": {
          "base_uri": "https://localhost:8080/",
          "height": 296
        },
        "id": "uIN35izeQSli",
        "outputId": "f993021a-e838-453c-b047-eea213f3127d"
      },
      "execution_count": null,
      "outputs": [
        {
          "output_type": "execute_result",
          "data": {
            "text/plain": [
              "<matplotlib.axes._subplots.AxesSubplot at 0x7fecb9a58d90>"
            ]
          },
          "metadata": {},
          "execution_count": 24
        },
        {
          "output_type": "display_data",
          "data": {
            "text/plain": [
              "<Figure size 432x288 with 1 Axes>"
            ],
            "image/png": "[encoded data removed]"
          },
          "metadata": {
            "needs_background": "light"
          }
        }
      ]
    },
    {
      "cell_type": "code",
      "source": [
        "orders['gender'].value_counts()"
      ],
      "metadata": {
        "colab": {
          "base_uri": "https://localhost:8080/"
        },
        "id": "Owenkn0r_TUS",
        "outputId": "2e6669c7-2539-41f9-bafd-24dee6d4968f"
      },
      "execution_count": null,
      "outputs": [
        {
          "output_type": "execute_result",
          "data": {
            "text/plain": [
              "M    90637\n",
              "F    90546\n",
              "Name: gender, dtype: int64"
            ]
          },
          "metadata": {},
          "execution_count": 25
        }
      ]
    },
    {
      "cell_type": "code",
      "source": [
        "# average age by gender\n",
        "\n",
        "orders.groupby('gender')['age'].mean()"
      ],
      "metadata": {
        "colab": {
          "base_uri": "https://localhost:8080/"
        },
        "id": "eeqX1m4RAXqv",
        "outputId": "ed60eade-4ef5-4004-f9b7-91d813a1f7de"
      },
      "execution_count": null,
      "outputs": [
        {
          "output_type": "execute_result",
          "data": {
            "text/plain": [
              "gender\n",
              "F    41.098149\n",
              "M    41.023942\n",
              "Name: age, dtype: float64"
            ]
          },
          "metadata": {},
          "execution_count": 26
        }
      ]
    },
    {
      "cell_type": "code",
      "source": [
        "# number of different product id's\n",
        "\n",
        "orders['product_id'].nunique()"
      ],
      "metadata": {
        "colab": {
          "base_uri": "https://localhost:8080/"
        },
        "id": "qLrgrcQXCDjE",
        "outputId": "80cdff01-ee27-4097-cfef-a728135d0c88"
      },
      "execution_count": null,
      "outputs": [
        {
          "output_type": "execute_result",
          "data": {
            "text/plain": [
              "29063"
            ]
          },
          "metadata": {},
          "execution_count": 27
        }
      ]
    },
    {
      "cell_type": "code",
      "source": [
        "# sale price distribution\n",
        "\n",
        "import seaborn as sns\n",
        "import matplotlib.pyplot as plt\n",
        "sns.displot(orders['sale_price'],kde=False)"
      ],
      "metadata": {
        "colab": {
          "base_uri": "https://localhost:8080/",
          "height": 386
        },
        "id": "E8bVlyK1_jvN",
        "outputId": "b7f546d0-646d-42a5-f4b9-39c919f67fbf"
      },
      "execution_count": null,
      "outputs": [
        {
          "output_type": "execute_result",
          "data": {
            "text/plain": [
              "<seaborn.axisgrid.FacetGrid at 0x7fecb998ded0>"
            ]
          },
          "metadata": {},
          "execution_count": 28
        },
        {
          "output_type": "display_data",
          "data": {
            "text/plain": [
              "<Figure size 360x360 with 1 Axes>"
            ],
            "image/png": "[encoded data removed]"
          },
          "metadata": {
            "needs_background": "light"
          }
        }
      ]
    },
    {
      "cell_type": "code",
      "source": [
        "orders['sale_price'].max()"
      ],
      "metadata": {
        "colab": {
          "base_uri": "https://localhost:8080/"
        },
        "id": "PV0ZrAxzAjJc",
        "outputId": "c4caca80-1104-4153-a1c1-183db882dfe8"
      },
      "execution_count": null,
      "outputs": [
        {
          "output_type": "execute_result",
          "data": {
            "text/plain": [
              "999.0"
            ]
          },
          "metadata": {},
          "execution_count": 29
        }
      ]
    },
    {
      "cell_type": "code",
      "source": [
        "# average sales price by gender\n",
        "\n",
        "orders.groupby('gender')['sale_price'].mean()"
      ],
      "metadata": {
        "colab": {
          "base_uri": "https://localhost:8080/"
        },
        "id": "Qx6C5pbWzWPc",
        "outputId": "4131038d-fa4d-41ce-b328-6f0e72b3debd"
      },
      "execution_count": null,
      "outputs": [
        {
          "output_type": "execute_result",
          "data": {
            "text/plain": [
              "gender\n",
              "F    55.926216\n",
              "M    63.221887\n",
              "Name: sale_price, dtype: float64"
            ]
          },
          "metadata": {},
          "execution_count": 30
        }
      ]
    },
    {
      "cell_type": "code",
      "source": [
        "# Order of sales numbers by category\n",
        "\n",
        "orders['category'].value_counts().sort_values(ascending=False)"
      ],
      "metadata": {
        "colab": {
          "base_uri": "https://localhost:8080/"
        },
        "id": "NXAeK_eIA8im",
        "outputId": "489c343f-cbd2-44b3-9445-2cd4bcc3c927"
      },
      "execution_count": null,
      "outputs": [
        {
          "output_type": "execute_result",
          "data": {
            "text/plain": [
              "Intimates                        13414\n",
              "Jeans                            12633\n",
              "Tops & Tees                      11943\n",
              "Fashion Hoodies & Sweatshirts    11702\n",
              "Sweaters                         11158\n",
              "Swim                             11116\n",
              "Shorts                           10988\n",
              "Sleep & Lounge                   10915\n",
              "Accessories                      10016\n",
              "Outerwear & Coats                 9131\n",
              "Active                            9031\n",
              "Underwear                         7531\n",
              "Pants                             7221\n",
              "Socks                             6256\n",
              "Dresses                           5456\n",
              "Maternity                         5225\n",
              "Suits & Sport Coats               5078\n",
              "Plus                              4304\n",
              "Socks & Hosiery                   3918\n",
              "Pants & Capris                    3329\n",
              "Blazers & Jackets                 3268\n",
              "Leggings                          3213\n",
              "Skirts                            2149\n",
              "Suits                             1042\n",
              "Jumpsuits & Rompers                924\n",
              "Clothing Sets                      222\n",
              "Name: category, dtype: int64"
            ]
          },
          "metadata": {},
          "execution_count": 31
        }
      ]
    },
    {
      "cell_type": "code",
      "source": [
        "orders['department'].value_counts()"
      ],
      "metadata": {
        "colab": {
          "base_uri": "https://localhost:8080/"
        },
        "id": "mk6loM3PBJPb",
        "outputId": "5f37e4f6-6e3b-4fbd-9c4a-25d6d58c5372"
      },
      "execution_count": null,
      "outputs": [
        {
          "output_type": "execute_result",
          "data": {
            "text/plain": [
              "Men      90637\n",
              "Women    90546\n",
              "Name: department, dtype: int64"
            ]
          },
          "metadata": {},
          "execution_count": 32
        }
      ]
    },
    {
      "cell_type": "code",
      "source": [
        "orders.groupby('gender')['department'].value_counts()\n",
        "\n",
        "# gender and department are the same"
      ],
      "metadata": {
        "colab": {
          "base_uri": "https://localhost:8080/"
        },
        "id": "-RivsiPSQkjY",
        "outputId": "887bb6c6-3507-4b27-a559-447a1e0de80c"
      },
      "execution_count": null,
      "outputs": [
        {
          "output_type": "execute_result",
          "data": {
            "text/plain": [
              "gender  department\n",
              "F       Women         90546\n",
              "M       Men           90637\n",
              "Name: department, dtype: int64"
            ]
          },
          "metadata": {},
          "execution_count": 33
        }
      ]
    },
    {
      "cell_type": "code",
      "source": [
        "# bar graph showing number of customer purchases by country\n",
        "\n",
        "plt.figure(figsize=(12,6))\n",
        "plt.xticks(rotation=45)\n",
        "sns.countplot(x='country', data=orders)"
      ],
      "metadata": {
        "colab": {
          "base_uri": "https://localhost:8080/",
          "height": 459
        },
        "id": "GusnYekmMXgN",
        "outputId": "1bbbc652-f6d2-43f9-f0ad-5e1100f159da"
      },
      "execution_count": null,
      "outputs": [
        {
          "output_type": "execute_result",
          "data": {
            "text/plain": [
              "<matplotlib.axes._subplots.AxesSubplot at 0x7fecb90432d0>"
            ]
          },
          "metadata": {},
          "execution_count": 34
        },
        {
          "output_type": "display_data",
          "data": {
            "text/plain": [
              "<Figure size 864x432 with 1 Axes>"
            ],
            "image/png": "[encoded data removed]"
          },
          "metadata": {
            "needs_background": "light"
          }
        }
      ]
    },
    {
      "cell_type": "code",
      "source": [
        "# Order of sales by category for China\n",
        "\n",
        "orders[orders['country']=='China']['category'].value_counts()"
      ],
      "metadata": {
        "colab": {
          "base_uri": "https://localhost:8080/"
        },
        "id": "PG9Vme2Qd3dO",
        "outputId": "b9f6bdc4-2561-492b-b25d-19316cb75c22"
      },
      "execution_count": null,
      "outputs": [
        {
          "output_type": "execute_result",
          "data": {
            "text/plain": [
              "Intimates                        4646\n",
              "Jeans                            4302\n",
              "Tops & Tees                      4055\n",
              "Fashion Hoodies & Sweatshirts    4045\n",
              "Sweaters                         3839\n",
              "Swim                             3821\n",
              "Shorts                           3778\n",
              "Sleep & Lounge                   3759\n",
              "Accessories                      3480\n",
              "Outerwear & Coats                3073\n",
              "Active                           3001\n",
              "Underwear                        2574\n",
              "Pants                            2439\n",
              "Socks                            2113\n",
              "Dresses                          1911\n",
              "Maternity                        1773\n",
              "Suits & Sport Coats              1716\n",
              "Plus                             1468\n",
              "Socks & Hosiery                  1353\n",
              "Pants & Capris                   1155\n",
              "Leggings                         1152\n",
              "Blazers & Jackets                1090\n",
              "Skirts                            737\n",
              "Suits                             339\n",
              "Jumpsuits & Rompers               298\n",
              "Clothing Sets                      71\n",
              "Name: category, dtype: int64"
            ]
          },
          "metadata": {},
          "execution_count": 35
        }
      ]
    },
    {
      "cell_type": "code",
      "source": [
        "# Order of sales by category for United States\n",
        "\n",
        "orders[orders['country']=='United States']['category'].value_counts()"
      ],
      "metadata": {
        "colab": {
          "base_uri": "https://localhost:8080/"
        },
        "id": "HIiBp4GZe6rP",
        "outputId": "a4cb881f-5a4c-4ec8-9164-a5466d9324c2"
      },
      "execution_count": null,
      "outputs": [
        {
          "output_type": "execute_result",
          "data": {
            "text/plain": [
              "Intimates                        3072\n",
              "Jeans                            2831\n",
              "Tops & Tees                      2782\n",
              "Fashion Hoodies & Sweatshirts    2594\n",
              "Sweaters                         2498\n",
              "Shorts                           2489\n",
              "Swim                             2442\n",
              "Sleep & Lounge                   2363\n",
              "Accessories                      2211\n",
              "Active                           2071\n",
              "Outerwear & Coats                2064\n",
              "Pants                            1666\n",
              "Underwear                        1664\n",
              "Socks                            1336\n",
              "Dresses                          1260\n",
              "Suits & Sport Coats              1162\n",
              "Maternity                        1156\n",
              "Plus                              936\n",
              "Socks & Hosiery                   891\n",
              "Pants & Capris                    766\n",
              "Blazers & Jackets                 738\n",
              "Leggings                          706\n",
              "Skirts                            499\n",
              "Jumpsuits & Rompers               236\n",
              "Suits                             219\n",
              "Clothing Sets                      50\n",
              "Name: category, dtype: int64"
            ]
          },
          "metadata": {},
          "execution_count": 36
        }
      ]
    },
    {
      "cell_type": "code",
      "source": [
        "# Order of sales by category for women's department\n",
        "\n",
        "orders[orders['department']=='Women']['category'].value_counts()"
      ],
      "metadata": {
        "colab": {
          "base_uri": "https://localhost:8080/"
        },
        "id": "oe47ygVXCicI",
        "outputId": "33f7c6ab-b4f8-4555-c3ea-6d0989fa4f9c"
      },
      "execution_count": null,
      "outputs": [
        {
          "output_type": "execute_result",
          "data": {
            "text/plain": [
              "Intimates                        13414\n",
              "Dresses                           5456\n",
              "Maternity                         5225\n",
              "Swim                              5013\n",
              "Fashion Hoodies & Sweatshirts     4999\n",
              "Jeans                             4897\n",
              "Shorts                            4626\n",
              "Sleep & Lounge                    4624\n",
              "Tops & Tees                       4403\n",
              "Plus                              4304\n",
              "Accessories                       4268\n",
              "Sweaters                          4094\n",
              "Socks & Hosiery                   3918\n",
              "Active                            3842\n",
              "Pants & Capris                    3329\n",
              "Outerwear & Coats                 3316\n",
              "Blazers & Jackets                 3268\n",
              "Leggings                          3213\n",
              "Skirts                            2149\n",
              "Suits                             1042\n",
              "Jumpsuits & Rompers                924\n",
              "Clothing Sets                      222\n",
              "Name: category, dtype: int64"
            ]
          },
          "metadata": {},
          "execution_count": 37
        }
      ]
    },
    {
      "cell_type": "code",
      "source": [
        "# Order of sales by category for men's department\n",
        "\n",
        "orders[orders['department']=='Men']['category'].value_counts()"
      ],
      "metadata": {
        "colab": {
          "base_uri": "https://localhost:8080/"
        },
        "id": "WD3RSS14C7w_",
        "outputId": "54959350-f33e-41ec-c92c-2942dde19f22"
      },
      "execution_count": null,
      "outputs": [
        {
          "output_type": "execute_result",
          "data": {
            "text/plain": [
              "Jeans                            7736\n",
              "Tops & Tees                      7540\n",
              "Underwear                        7531\n",
              "Pants                            7221\n",
              "Sweaters                         7064\n",
              "Fashion Hoodies & Sweatshirts    6703\n",
              "Shorts                           6362\n",
              "Sleep & Lounge                   6291\n",
              "Socks                            6256\n",
              "Swim                             6103\n",
              "Outerwear & Coats                5815\n",
              "Accessories                      5748\n",
              "Active                           5189\n",
              "Suits & Sport Coats              5078\n",
              "Name: category, dtype: int64"
            ]
          },
          "metadata": {},
          "execution_count": 38
        }
      ]
    },
    {
      "cell_type": "code",
      "source": [
        "# There are 1994 different product id #'s for jeans\n",
        "orders[orders['category']=='Jeans']['product_id'].value_counts()"
      ],
      "metadata": {
        "colab": {
          "base_uri": "https://localhost:8080/"
        },
        "id": "aKiNr-9UhR7U",
        "outputId": "e66ff803-c521-419d-bfe6-cc0d7082fc9c"
      },
      "execution_count": null,
      "outputs": [
        {
          "output_type": "execute_result",
          "data": {
            "text/plain": [
              "20924    17\n",
              "21182    17\n",
              "21387    16\n",
              "21295    16\n",
              "21157    16\n",
              "         ..\n",
              "4307      1\n",
              "4929      1\n",
              "4853      1\n",
              "4887      1\n",
              "20987     1\n",
              "Name: product_id, Length: 1994, dtype: int64"
            ]
          },
          "metadata": {},
          "execution_count": 39
        }
      ]
    },
    {
      "cell_type": "code",
      "source": [
        "# bar graph showing number of customer purchases by DC\n",
        "\n",
        "plt.figure(figsize=(10,4))\n",
        "sns.countplot(x='dc_state', data=orders)"
      ],
      "metadata": {
        "colab": {
          "base_uri": "https://localhost:8080/",
          "height": 297
        },
        "id": "pWk_dlS6ie_d",
        "outputId": "715f3544-1983-49b9-fd01-52b5f9786873"
      },
      "execution_count": null,
      "outputs": [
        {
          "output_type": "execute_result",
          "data": {
            "text/plain": [
              "<matplotlib.axes._subplots.AxesSubplot at 0x7fecb8fb3710>"
            ]
          },
          "metadata": {},
          "execution_count": 40
        },
        {
          "output_type": "display_data",
          "data": {
            "text/plain": [
              "<Figure size 720x288 with 1 Axes>"
            ],
            "image/png": "[encoded data removed]"
          },
          "metadata": {
            "needs_background": "light"
          }
        }
      ]
    },
    {
      "cell_type": "code",
      "source": [
        "# sales plot over time\n",
        "plt.figure(figsize=(12,6))\n",
        "orders.groupby('shipped_at')['sale_price'].sum().plot()"
      ],
      "metadata": {
        "colab": {
          "base_uri": "https://localhost:8080/",
          "height": 418
        },
        "id": "N7a7jBeQe4qN",
        "outputId": "a1075af6-1157-4e86-cb55-a900588366ce"
      },
      "execution_count": null,
      "outputs": [
        {
          "output_type": "execute_result",
          "data": {
            "text/plain": [
              "<matplotlib.axes._subplots.AxesSubplot at 0x7fecb8f9ccd0>"
            ]
          },
          "metadata": {},
          "execution_count": 41
        },
        {
          "output_type": "display_data",
          "data": {
            "text/plain": [
              "<Figure size 864x432 with 1 Axes>"
            ],
            "image/png": "[encoded data removed]"
          },
          "metadata": {
            "needs_background": "light"
          }
        }
      ]
    },
    {
      "cell_type": "code",
      "source": [
        "# last ship date\n",
        "\n",
        "orders['shipped_at'].max()"
      ],
      "metadata": {
        "colab": {
          "base_uri": "https://localhost:8080/"
        },
        "id": "d35VfidEsZqu",
        "outputId": "d4aafa67-cc52-40b1-d0a7-bd86114e9d05"
      },
      "execution_count": null,
      "outputs": [
        {
          "output_type": "execute_result",
          "data": {
            "text/plain": [
              "Timestamp('2022-05-01 00:00:00')"
            ]
          },
          "metadata": {},
          "execution_count": 43
        }
      ]
    },
    {
      "cell_type": "code",
      "source": [
        "# first ship date\n",
        "\n",
        "orders['shipped_at'].min()"
      ],
      "metadata": {
        "colab": {
          "base_uri": "https://localhost:8080/"
        },
        "id": "3AFAOrXjsf3d",
        "outputId": "c70de154-f39c-41dd-d4af-060a6fad8982"
      },
      "execution_count": null,
      "outputs": [
        {
          "output_type": "execute_result",
          "data": {
            "text/plain": [
              "Timestamp('2019-01-01 00:00:00')"
            ]
          },
          "metadata": {},
          "execution_count": 44
        }
      ]
    },
    {
      "cell_type": "code",
      "source": [
        "# Sales volume by DC\n",
        "\n",
        "orders.groupby('dc_state')['sale_price'].sum().sort_values()"
      ],
      "metadata": {
        "id": "GMTcMj6ro7Co",
        "colab": {
          "base_uri": "https://localhost:8080/"
        },
        "outputId": "3e456b75-b317-4ede-f7ae-0bcdeaf5d675"
      },
      "execution_count": null,
      "outputs": [
        {
          "output_type": "execute_result",
          "data": {
            "text/plain": [
              "dc_state\n",
              "SC     660938.54\n",
              "GA     797535.55\n",
              "LA     820605.65\n",
              "NJ     921664.47\n",
              "CA     958513.17\n",
              "PA    1104934.09\n",
              "AL    1205471.04\n",
              "IL    1312488.50\n",
              "TN    1435413.88\n",
              "TX    1576572.48\n",
              "Name: sale_price, dtype: float64"
            ]
          },
          "metadata": {},
          "execution_count": 45
        }
      ]
    },
    {
      "cell_type": "code",
      "source": [
        "# Sales volume by country\n",
        "\n",
        "orders.groupby('country')['sale_price'].sum().sort_values()"
      ],
      "metadata": {
        "id": "enChc7Zmo7WN",
        "colab": {
          "base_uri": "https://localhost:8080/"
        },
        "outputId": "5b6bc73c-4ce0-421c-cd3a-633747fece1d"
      },
      "execution_count": null,
      "outputs": [
        {
          "output_type": "execute_result",
          "data": {
            "text/plain": [
              "country\n",
              "Deutschland            74.06\n",
              "Austria               159.95\n",
              "Colombia              778.10\n",
              "Poland              25605.00\n",
              "Belgium            122197.53\n",
              "Australia          225766.32\n",
              "Japan              259926.36\n",
              "Germany            434831.19\n",
              "Spain              448646.93\n",
              "United Kingdom     482649.68\n",
              "France             509170.10\n",
              "South Korea        595597.08\n",
              "Brasil            1571489.95\n",
              "United States     2434146.91\n",
              "China             3683098.21\n",
              "Name: sale_price, dtype: float64"
            ]
          },
          "metadata": {},
          "execution_count": 46
        }
      ]
    },
    {
      "cell_type": "code",
      "source": [
        "# Sales volume by age\n",
        "\n",
        "Age_sales = orders.groupby('age')['sale_price'].sum().sort_values()\n",
        "Age_sales"
      ],
      "metadata": {
        "colab": {
          "base_uri": "https://localhost:8080/"
        },
        "id": "nPhlnUJnwQ2W",
        "outputId": "99716177-d35c-4dd5-c6de-2632f31b7aea"
      },
      "execution_count": null,
      "outputs": [
        {
          "output_type": "execute_result",
          "data": {
            "text/plain": [
              "age\n",
              "13    164505.10\n",
              "68    166492.97\n",
              "56    166679.50\n",
              "39    169992.94\n",
              "37    172983.63\n",
              "16    172999.45\n",
              "49    173948.44\n",
              "20    174754.08\n",
              "44    174871.70\n",
              "62    175478.69\n",
              "15    175482.37\n",
              "27    175694.64\n",
              "41    176844.32\n",
              "57    177436.20\n",
              "17    177603.25\n",
              "54    178187.95\n",
              "28    178992.17\n",
              "19    179162.40\n",
              "67    179207.48\n",
              "70    179709.19\n",
              "52    180778.24\n",
              "40    180887.99\n",
              "33    181224.66\n",
              "30    181903.03\n",
              "38    182599.79\n",
              "47    182602.08\n",
              "58    182737.16\n",
              "31    182882.79\n",
              "25    183102.02\n",
              "48    183615.00\n",
              "12    183801.18\n",
              "65    183894.42\n",
              "14    184036.41\n",
              "36    185176.95\n",
              "24    185241.14\n",
              "21    185626.92\n",
              "34    186303.72\n",
              "51    186457.37\n",
              "69    186564.36\n",
              "61    186706.03\n",
              "32    187188.47\n",
              "45    187595.58\n",
              "18    187727.05\n",
              "66    187939.23\n",
              "55    189842.49\n",
              "23    190216.61\n",
              "50    190302.87\n",
              "60    190308.42\n",
              "42    190723.05\n",
              "22    190935.90\n",
              "35    191195.72\n",
              "46    191458.63\n",
              "64    191821.45\n",
              "29    192117.95\n",
              "59    192235.76\n",
              "53    192670.66\n",
              "26    193987.08\n",
              "63    194233.11\n",
              "43    194469.61\n",
              "Name: sale_price, dtype: float64"
            ]
          },
          "metadata": {},
          "execution_count": 47
        }
      ]
    },
    {
      "cell_type": "code",
      "source": [
        "orders[[\"age\", \"sale_price\"]].corr()\n",
        "\n",
        "# no correlation between sales and age"
      ],
      "metadata": {
        "colab": {
          "base_uri": "https://localhost:8080/",
          "height": 133
        },
        "id": "Aloc6TPvwt98",
        "outputId": "a0c924a5-4803-450d-ac0a-e0580a09c187"
      },
      "execution_count": null,
      "outputs": [
        {
          "output_type": "execute_result",
          "data": {
            "text/plain": [
              "                 age  sale_price\n",
              "age         1.000000    0.000851\n",
              "sale_price  0.000851    1.000000"
            ],
            "text/html": [
              "\n",
              "  <div id=\"df-b1fd6433-6dcb-4e50-81de-01c3d51f3875\">\n",
              "    <div class=\"colab-df-container\">\n",
              "      <div>\n",
              "<style scoped>\n",
              "    .dataframe tbody tr th:only-of-type {\n",
              "        vertical-align: middle;\n",
              "    }\n",
              "\n",
              "    .dataframe tbody tr th {\n",
              "        vertical-align: top;\n",
              "    }\n",
              "\n",
              "    .dataframe thead th {\n",
              "        text-align: right;\n",
              "    }\n",
              "</style>\n",
              "<table border=\"1\" class=\"dataframe\">\n",
              "  <thead>\n",
              "    <tr style=\"text-align: right;\">\n",
              "      <th></th>\n",
              "      <th>age</th>\n",
              "      <th>sale_price</th>\n",
              "    </tr>\n",
              "  </thead>\n",
              "  <tbody>\n",
              "    <tr>\n",
              "      <th>age</th>\n",
              "      <td>1.000000</td>\n",
              "      <td>0.000851</td>\n",
              "    </tr>\n",
              "    <tr>\n",
              "      <th>sale_price</th>\n",
              "      <td>0.000851</td>\n",
              "      <td>1.000000</td>\n",
              "    </tr>\n",
              "  </tbody>\n",
              "</table>\n",
              "</div>\n",
              "      <button class=\"colab-df-convert\" onclick=\"convertToInteractive('df-b1fd6433-6dcb-4e50-81de-01c3d51f3875')\"\n",
              "              title=\"Convert this dataframe to an interactive table.\"\n",
              "              style=\"display:none;\">\n",
              "        \n",
              "  <svg xmlns=\"http://www.w3.org/2000/svg\" height=\"24px\"viewBox=\"0 0 24 24\"\n",
              "       width=\"24px\">\n",
              "    <path d=\"M0 0h24v24H0V0z\" fill=\"none\"/>\n",
              "    <path d=\"M18.56 5.44l.94 2.06.94-2.06 2.06-.94-2.06-.94-.94-2.06-.94 2.06-2.06.94zm-11 1L8.5 8.5l.94-2.06 2.06-.94-2.06-.94L8.5 2.5l-.94 2.06-2.06.94zm10 10l.94 2.06.94-2.06 2.06-.94-2.06-.94-.94-2.06-.94 2.06-2.06.94z\"/><path d=\"M17.41 7.96l-1.37-1.37c-.4-.4-.92-.59-1.43-.59-.52 0-1.04.2-1.43.59L10.3 9.45l-7.72 7.72c-.78.78-.78 2.05 0 2.83L4 21.41c.39.39.9.59 1.41.59.51 0 1.02-.2 1.41-.59l7.78-7.78 2.81-2.81c.8-.78.8-2.07 0-2.86zM5.41 20L4 18.59l7.72-7.72 1.47 1.35L5.41 20z\"/>\n",
              "  </svg>\n",
              "      </button>\n",
              "      \n",
              "  <style>\n",
              "    .colab-df-container {\n",
              "      display:flex;\n",
              "      flex-wrap:wrap;\n",
              "      gap: 12px;\n",
              "    }\n",
              "\n",
              "    .colab-df-convert {\n",
              "      background-color: #E8F0FE;\n",
              "      border: none;\n",
              "      border-radius: 50%;\n",
              "      cursor: pointer;\n",
              "      display: none;\n",
              "      fill: #1967D2;\n",
              "      height: 32px;\n",
              "      padding: 0 0 0 0;\n",
              "      width: 32px;\n",
              "    }\n",
              "\n",
              "    .colab-df-convert:hover {\n",
              "      background-color: #E2EBFA;\n",
              "      box-shadow: 0px 1px 2px rgba(60, 64, 67, 0.3), 0px 1px 3px 1px rgba(60, 64, 67, 0.15);\n",
              "      fill: #174EA6;\n",
              "    }\n",
              "\n",
              "    [theme=dark] .colab-df-convert {\n",
              "      background-color: #3B4455;\n",
              "      fill: #D2E3FC;\n",
              "    }\n",
              "\n",
              "    [theme=dark] .colab-df-convert:hover {\n",
              "      background-color: #434B5C;\n",
              "      box-shadow: 0px 1px 3px 1px rgba(0, 0, 0, 0.15);\n",
              "      filter: drop-shadow(0px 1px 2px rgba(0, 0, 0, 0.3));\n",
              "      fill: #FFFFFF;\n",
              "    }\n",
              "  </style>\n",
              "\n",
              "      <script>\n",
              "        const buttonEl =\n",
              "          document.querySelector('#df-b1fd6433-6dcb-4e50-81de-01c3d51f3875 button.colab-df-convert');\n",
              "        buttonEl.style.display =\n",
              "          google.colab.kernel.accessAllowed ? 'block' : 'none';\n",
              "\n",
              "        async function convertToInteractive(key) {\n",
              "          const element = document.querySelector('#df-b1fd6433-6dcb-4e50-81de-01c3d51f3875');\n",
              "          const dataTable =\n",
              "            await google.colab.kernel.invokeFunction('convertToInteractive',\n",
              "                                                     [key], {});\n",
              "          if (!dataTable) return;\n",
              "\n",
              "          const docLinkHtml = 'Like what you see? Visit the ' +\n",
              "            '<a target=\"_blank\" href=https://colab.research.google.com/notebooks/data_table.ipynb>data table notebook</a>'\n",
              "            + ' to learn more about interactive tables.';\n",
              "          element.innerHTML = '';\n",
              "          dataTable['output_type'] = 'display_data';\n",
              "          await google.colab.output.renderOutput(dataTable, element);\n",
              "          const docLink = document.createElement('div');\n",
              "          docLink.innerHTML = docLinkHtml;\n",
              "          element.appendChild(docLink);\n",
              "        }\n",
              "      </script>\n",
              "    </div>\n",
              "  </div>\n",
              "  "
            ],
            "application/vnd.google.colaboratory.module+javascript": "\n      import \"https://ssl.gstatic.com/colaboratory/data_table/f872b2c2305463fd/data_table.js\";\n\n      window.createDataTable({\n        data: [[\"age\",\n{\n            'v': 1.0,\n            'f': \"1.0\",\n        },\n{\n            'v': 0.0008512424014049011,\n            'f': \"0.0008512424014049011\",\n        }],\n [\"sale_price\",\n{\n            'v': 0.0008512424014049011,\n            'f': \"0.0008512424014049011\",\n        },\n{\n            'v': 1.0,\n            'f': \"1.0\",\n        }]],\n        columns: [[\"string\", \"index\"], [\"number\", \"age\"], [\"number\", \"sale_price\"]],\n        columnOptions: [{\"width\": \"1px\", \"className\": \"index_column\"}],\n        rowsPerPage: 25,\n        helpUrl: \"https://colab.research.google.com/notebooks/data_table.ipynb\",\n        suppressOutputScrolling: true,\n        minimumWidth: undefined,\n      });\n    "
          },
          "metadata": {},
          "execution_count": 48
        }
      ]
    },
    {
      "cell_type": "code",
      "source": [
        "# number of unique products per category\n",
        "\n",
        "orders.groupby('category')['product_id'].nunique()"
      ],
      "metadata": {
        "colab": {
          "base_uri": "https://localhost:8080/"
        },
        "id": "zHXyvpSAx0Gh",
        "outputId": "ecac96e4-8d5c-48e3-dc60-04c4dcdf5c13"
      },
      "execution_count": null,
      "outputs": [
        {
          "output_type": "execute_result",
          "data": {
            "text/plain": [
              "category\n",
              "Accessories                      1557\n",
              "Active                           1431\n",
              "Blazers & Jackets                 561\n",
              "Clothing Sets                      37\n",
              "Dresses                           953\n",
              "Fashion Hoodies & Sweatshirts    1862\n",
              "Intimates                        2356\n",
              "Jeans                            1994\n",
              "Jumpsuits & Rompers               162\n",
              "Leggings                          561\n",
              "Maternity                         896\n",
              "Outerwear & Coats                1418\n",
              "Pants                            1041\n",
              "Pants & Capris                    608\n",
              "Plus                              756\n",
              "Shorts                           1761\n",
              "Skirts                            366\n",
              "Sleep & Lounge                   1769\n",
              "Socks                             905\n",
              "Socks & Hosiery                   664\n",
              "Suits                             187\n",
              "Suits & Sport Coats               739\n",
              "Sweaters                         1733\n",
              "Swim                             1793\n",
              "Tops & Tees                      1865\n",
              "Underwear                        1088\n",
              "Name: product_id, dtype: int64"
            ]
          },
          "metadata": {},
          "execution_count": 58
        }
      ]
    },
    {
      "cell_type": "code",
      "source": [
        "# save data set to Google Drive\n",
        "\n",
        "from google.colab import drive\n",
        "drive.mount('drive')"
      ],
      "metadata": {
        "id": "TYveYXDzE3uA",
        "colab": {
          "base_uri": "https://localhost:8080/"
        },
        "outputId": "1b0ff45e-0fc1-4e95-f7c8-0850c6462dd8"
      },
      "execution_count": null,
      "outputs": [
        {
          "output_type": "stream",
          "name": "stdout",
          "text": [
            "Mounted at drive\n"
          ]
        }
      ]
    },
    {
      "cell_type": "code",
      "source": [
        "orders.to_csv('orders.csv')\n",
        "!cp orders.csv \"drive/My Drive/Projects/BigQuery/Ecommerce/\""
      ],
      "metadata": {
        "id": "OGFab8QGRl8F"
      },
      "execution_count": null,
      "outputs": []
    },
    {
      "cell_type": "code",
      "source": [
        ""
      ],
      "metadata": {
        "id": "Atx7Oy4XT4O4"
      },
      "execution_count": null,
      "outputs": []
    }
  ],
  "metadata": {
    "colab": {
      "collapsed_sections": [],
      "name": "Sales Analysis.ipynb",
      "provenance": [],
      "authorship_tag": "ABX9TyPEcYRT4/J2y767Vn9+0cg3",
      "include_colab_link": true
    },
    "kernelspec": {
      "display_name": "Python 3",
      "name": "python3"
    },
    "language_info": {
      "name": "python"
    }
  },
  "nbformat": 4,
  "nbformat_minor": 0
}